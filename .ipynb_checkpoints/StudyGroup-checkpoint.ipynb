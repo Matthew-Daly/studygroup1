{
 "cells": [
  {
   "cell_type": "markdown",
   "metadata": {},
   "source": [
    "# Ever feel like Charley?"
   ]
  },
  {
   "cell_type": "markdown",
   "metadata": {},
   "source": [
    "<img src='charley.2e16d0ba.fill-735x490.jpg'>"
   ]
  },
  {
   "cell_type": "markdown",
   "metadata": {},
   "source": [
    "# Welcome to Code from the Solutions - the stuff that makes you go huh?"
   ]
  },
  {
   "cell_type": "markdown",
   "metadata": {},
   "source": [
    "### Your host - Matthew Daly"
   ]
  },
  {
   "cell_type": "markdown",
   "metadata": {},
   "source": [
    "#### Linkedin:\n",
    "https://www.linkedin.com/in/matthew-d-12a22156/  <br/>\n",
    "Please feel free to connect with me. My friend tells me I need more friends. "
   ]
  },
  {
   "cell_type": "markdown",
   "metadata": {},
   "source": [
    "## Preamble"
   ]
  },
  {
   "cell_type": "markdown",
   "metadata": {},
   "source": [
    "Before we get started, a little background on why I decided to host a study group on this topic. In preparation for starting a bootcamp I spent a fair bit of time on [CodeWars](https://www.codewars.com/r/Btbo-Q). \n",
    "\n",
    "I would like to share a couple of my experiences from there. These examples are in JavaScript but don't worry about trying to follow the code, they are more emotional examples than anything else. \n"
   ]
  },
  {
   "cell_type": "markdown",
   "metadata": {},
   "source": [
    "## The Challenge - Snail"
   ]
  },
  {
   "cell_type": "raw",
   "metadata": {},
   "source": [
    "Given an n x n array, return the array elements arranged from outermost elements to the middle element, traveling clockwise.\n",
    "\n",
    "array = [[1,2,3],\n",
    "         [4,5,6],\n",
    "         [7,8,9]]\n",
    "snail(array) #=> [1,2,3,6,9,8,7,4,5]\n",
    "For better understanding, please follow the numbers of the next array consecutively:\n",
    "\n",
    "array = [[1,2,3],\n",
    "         [8,9,4],\n",
    "         [7,6,5]]\n",
    "snail(array) #=> [1,2,3,4,5,6,7,8,9]"
   ]
  },
  {
   "cell_type": "markdown",
   "metadata": {},
   "source": [
    "#### This should make it easier to understand:"
   ]
  },
  {
   "cell_type": "markdown",
   "metadata": {},
   "source": [
    "<img src='snail.png'>"
   ]
  },
  {
   "cell_type": "markdown",
   "metadata": {},
   "source": [
    "Basically, I had to return an array that would follow a snail-like spiraled line through any unknown array with a shape of n x n."
   ]
  },
  {
   "cell_type": "markdown",
   "metadata": {},
   "source": [
    "#### My Solution, which at the time I was quite proud (again, don't worry about trying to follow the code):"
   ]
  },
  {
   "cell_type": "raw",
   "metadata": {},
   "source": [
    "function snail(arr){\n",
    "  let template = arr.map(function (subarray) {\n",
    "    return subarray.map( function () {\n",
    "    return false\n",
    "    });\n",
    "  });\n",
    "  \n",
    "  //console.log(template)\n",
    "  let row = template.length;\n",
    "  let col = template[0].length;\n",
    "  let total =  row * col;\n",
    "  let dRow = [-1, 0, 1, 0];\n",
    "  let dCol = [0, 1, 0, -1];\n",
    "  let step = 1; \n",
    "  let xr = 0;\n",
    "    let yc = 0;\n",
    "    let resultArr = [];\n",
    "\n",
    "    while(resultArr.length < total){\n",
    "      //console.log(xr, yc)\n",
    "      resultArr.push(arr[xr][yc]);\n",
    "      template[xr][yc] = true;\n",
    "      let XR = xr + dRow[step];\n",
    "         let YC = yc + dCol[step];\n",
    "         if(XR >= 0 && XR < row && YC >= 0 && YC < col && template[XR][YC] !== true){\n",
    "        xr = XR;\n",
    "        yc = YC;\n",
    "      } else{\n",
    "        step = (step +1)%4;\n",
    "        xr = xr + dRow[step];\n",
    "        yc = yc + dCol[step];\n",
    "      }\n",
    "    }\n",
    "\n",
    "    return resultArr;\n",
    "}"
   ]
  },
  {
   "cell_type": "markdown",
   "metadata": {},
   "source": [
    "#### Proud, until I saw this:"
   ]
  },
  {
   "cell_type": "markdown",
   "metadata": {},
   "source": [
    "On codewars, once you solve a challenge you are allowed to see how others also solved it."
   ]
  },
  {
   "cell_type": "raw",
   "metadata": {},
   "source": [
    "function snail(array) {\n",
    "  var vector = [];\n",
    "  while (array.length) {\n",
    "    vector.push(...array.shift());\n",
    "    array.map(row => vector.push(row.pop()));\n",
    "    array.reverse().map(row => row.reverse());\n",
    "  }\n",
    "  return vector;\n",
    "}"
   ]
  },
  {
   "cell_type": "markdown",
   "metadata": {},
   "source": [
    "## Then there was this one.\n",
    "### The Challenge - helloWorld\n"
   ]
  },
  {
   "cell_type": "markdown",
   "metadata": {},
   "source": [
    "###### Return 'helloWorld'\n",
    "\n",
    "Disallowed functionality:\n",
    "\n",
    "- Strings\n",
    "- Numbers\n",
    "- Regular Expressions\n",
    "- Functions named \"Hello\", \"World\", \"HelloWorld\" or anything similar.\n",
    "- Object keys named \"Hello\", \"World\", \"HelloWorld\" or anything similar.\n",
    "- Without using the above, output the string \"Hello World!\" to prove that there is always a way."
   ]
  },
  {
   "cell_type": "markdown",
   "metadata": {},
   "source": [
    "## My Solution. \n"
   ]
  },
  {
   "cell_type": "markdown",
   "metadata": {},
   "source": [
    "var helloWorld = function(){\n",
    "\n",
    "  return String.fromCharCode((!+[]+!![]+!![]+!![]+!![]+!![]+!![]+!![]+!![]) * (!+[]+!![]+!![]+!![]+!![]+!![]+!![]+!![]), \n",
    "  ((!+[]+!![]+!![]+!![]+!![]+!![]+!![]+!![]+!![]+!![]) * (!+[]+!![]+!![]+!![]+!![]+!![]+!![]+!![]+!![]+!![]) + (+!![])), \n",
    "  (!+[]+!![]+!![]+!![]+!![]+!![]+!![]+!![]+!![]+!![]) * (!+[]+!![]+!![]+!![]+!![]+!![]+!![]+!![]+!![]+!![]) + ((!+[]+!![]+!![]+!![]) * (!+[]+!![])), \n",
    "  (!+[]+!![]+!![]+!![]+!![]+!![]+!![]+!![]+!![]+!![]) * (!+[]+!![]+!![]+!![]+!![]+!![]+!![]+!![]+!![]+!![]) + ((!+[]+!![]+!![]+!![]) * (!+[]+!![])),\n",
    "  (!+[]+!![]+!![]+!![]+!![]+!![]+!![]+!![]+!![]+!![]) * (!+[]+!![]+!![]+!![]+!![]+!![]+!![]+!![]+!![]+!![]) + (!+[]+!![]+!![]+!![]+!![]+!![]+!![]+!![]+!![]+!![]) + (+!![]),\n",
    "  (!+[]+!![]+!![]+!![]+!![]+!![]+!![]+!![]) * (!+[]+!![]+!![]+!![]),\n",
    "  (!+[]+!![]+!![]+!![]+!![]+!![]+!![]+!![]+!![]) * (!+[]+!![]+!![]+!![]+!![]+!![]+!![]+!![]+!![]) + (!+[]+!![]+!![]+!![]+!![]+!![]),\n",
    "  (!+[]+!![]+!![]+!![]+!![]+!![]+!![]+!![]+!![]+!![]) * (!+[]+!![]+!![]+!![]+!![]+!![]+!![]+!![]+!![]+!![]) + (!+[]+!![]+!![]+!![]+!![]+!![]+!![]+!![]+!![]+!![]) + (+!![]),\n",
    "  (!+[]+!![]+!![]+!![]+!![]+!![]+!![]+!![]+!![]+!![]) * (!+[]+!![]+!![]+!![]+!![]+!![]+!![]+!![]+!![]+!![]) + ((!+[]+!![]+!![]+!![]+!![]+!![]+!![]) * (!+[]+!![])),\n",
    "  (!+[]+!![]+!![]+!![]+!![]+!![]+!![]+!![]+!![]+!![]) * (!+[]+!![]+!![]+!![]+!![]+!![]+!![]+!![]+!![]+!![]) + ((!+[]+!![]+!![]+!![]) * (!+[]+!![])),\n",
    "  (!+[]+!![]+!![]+!![]+!![]+!![]+!![]+!![]+!![]+!![]) * (!+[]+!![]+!![]+!![]+!![]+!![]+!![]+!![]+!![]+!![]),\n",
    "  (!+[]+!![]+!![]+!![]+!![]+!![]+!![]+!![]) * (!+[]+!![]+!![]+!![]) + (!+[]));\n",
    "  \n",
    "}"
   ]
  },
  {
   "cell_type": "markdown",
   "metadata": {},
   "source": [
    "## Again, my pride was short lived."
   ]
  },
  {
   "cell_type": "raw",
   "metadata": {},
   "source": [
    "var helloWorld = function () {\n",
    "  // Hello World!\n",
    "  var start = [,,,,,,,,,,,,,,,,,,,].length,\n",
    "      end = [,,,,,,,,,,,,,,,,,,,,,,,,,,,,,,,].length;\n",
    "  return helloWorld.toString().slice(start, end);\n",
    "}"
   ]
  },
  {
   "cell_type": "markdown",
   "metadata": {},
   "source": [
    "#### So why do I bring all of this up?\n",
    "\n",
    "As I've been going through the program, these coding challenges and other's like them have kept popping up in my thoughts and I only recently figured out why. \n",
    "\n",
    "In my solutions we see someone working, working hard. Basically doing the equivalent of manual labor with code, where in the more eloquent solutions, we see someone leveraging the power of the language to accomplish the same thing. \n",
    "\n",
    "Imagine we needed to dig a hole. Where I am using my hands, they (whoever the 'they' may be) are using a shovel. Then when I finally work my way up to a shovel, they bring in a backhoe. ('They' suck!)\n",
    "\n",
    "I didn’t even know there was a backhoe option. \n",
    "\n",
    "In working through the labs, I’ve had a similar experience. I’ll brute force a bit of code to get through the lab, only to look at the solution to see some piece of code that just baffles me. \n",
    "\n",
    "Remember the first time you came across a lambda function? We will get to that one in a moment. \n",
    "\n",
    "The trick is not to get discouraged - yeah, easier said than done and all that... You just spent hours gluing for loops together and you’ve got more counters than you know what do to with, only to see what took you twenty lines accomplished in one or two. \n",
    "\n",
    "Don’t get discouraged, get excited, someone is handing you a shovel. \n",
    "\n",
    "My goal for this study group is for us to take a look at some examples of reoccurring methods, functions, and ways of doing things that keep popping up in the solutions and demystify them. To show that in most cases they are just short-cut versions of what we already know how to do and that by adding them to our code vocabulary our lives will become infinitely easier.\n",
    "\n",
    "We will become 'they' and they will suck a little less. Just a little.\n",
    "\n",
    "So to begin today, I would like to take a look at a few functions that I keep coming across in the solutions that have not necessarily been covered that deeply within the lessons. Then I would like to open it up to the group and see if you have any particular pieces of code that are confusing you. I may not know them, but I am sure we will be able to figure it out together.\n",
    "\n",
    "But, first a musical break:"
   ]
  },
  {
   "cell_type": "code",
   "execution_count": 1,
   "metadata": {},
   "outputs": [
    {
     "data": {
      "text/html": [
       "<iframe width=\"560\" height=\"315\" src=\"https://www.youtube.com/embed/iyLdoQGBchQ\" frameborder=\"0\" allow=\"accelerometer; autoplay; encrypted-media; gyroscope; picture-in-picture\" allowfullscreen></iframe>"
      ],
      "text/plain": [
       "<IPython.core.display.HTML object>"
      ]
     },
     "execution_count": 1,
     "metadata": {},
     "output_type": "execute_result"
    }
   ],
   "source": [
    "from IPython.display import HTML\n",
    "HTML('<iframe width=\"560\" height=\"315\" src=\"https://www.youtube.com/embed/iyLdoQGBchQ\" frameborder=\"0\" allow=\"accelerometer; autoplay; encrypted-media; gyroscope; picture-in-picture\" allowfullscreen></iframe>')"
   ]
  },
  {
   "cell_type": "markdown",
   "metadata": {},
   "source": [
    "_\"Write a function called open_restaurants using filter and lambda that takes in a list of restaurants and only returns those that are open. You can use the dictionary key is_closed to make a decision in your code.\"_\n",
    "\n",
    "Lambda? Come again. The song from the eighties? I was actually mispronouncing it up to a week ago when Eli corrected me. Now that would have been embarrassing during an interview. \n",
    "\n",
    "If any of your experiences were like mine, this function seemed to appear out of nowhere. I spent a good hour looking through all the material we had covered up until that point before I had the genius idea to Google it (by the way it wasn't ever mentioned, still not sure if that is by design or not). \n",
    "\n",
    "So let's take a look at it. <br><br>\n",
    "_map was pretty well covered in the lessons, so I will take it as read that we are familiar with it. If not please let me know._"
   ]
  },
  {
   "cell_type": "code",
   "execution_count": 2,
   "metadata": {},
   "outputs": [],
   "source": [
    "# First lets get some data to work with\n",
    "restaurants = [{'is_closed': False,\n",
    "  'name': 'Fork & Fig',\n",
    "  'price': '$$',\n",
    "  'review_count': 610},\n",
    " {'is_closed': False,\n",
    "  'name': 'Salt And Board',\n",
    "  'price': '$$',\n",
    "  'review_count': 11},\n",
    " {'is_closed': False,\n",
    "  'name': 'Frontier Restaurant',\n",
    "  'price': '$',\n",
    "  'review_count': 1373},\n",
    " {'is_closed': False,\n",
    "  'name': 'Nexus Brewery',\n",
    "  'price': '$$',\n",
    "  'review_count': 680},\n",
    " {'is_closed': False,\n",
    "  'name': \"Devon's Pop Smoke\",\n",
    "  'price': '$$',\n",
    "  'review_count': 54},\n",
    " {'is_closed': True,\n",
    "  'name': 'Cocina Azul',\n",
    "  'price': '$$',\n",
    "  'review_count': 647},\n",
    " {'is_closed': False,\n",
    "  'name': 'Philly Steaks',\n",
    "  'price': '$$',\n",
    "  'review_count': 25},\n",
    " {'is_closed': True,\n",
    "  'name': 'Stripes Biscuit',\n",
    "  'price': '$$',\n",
    "  'review_count': 20}]"
   ]
  },
  {
   "cell_type": "markdown",
   "metadata": {},
   "source": [
    "In the lab, one of the tasks was to create a list of all of the restaurant names. The solution they gave was:"
   ]
  },
  {
   "cell_type": "code",
   "execution_count": 3,
   "metadata": {},
   "outputs": [
    {
     "data": {
      "text/plain": [
       "['Fork & Fig',\n",
       " 'Salt And Board',\n",
       " 'Frontier Restaurant',\n",
       " 'Nexus Brewery',\n",
       " \"Devon's Pop Smoke\",\n",
       " 'Cocina Azul',\n",
       " 'Philly Steaks',\n",
       " 'Stripes Biscuit']"
      ]
     },
     "execution_count": 3,
     "metadata": {},
     "output_type": "execute_result"
    }
   ],
   "source": [
    "names = list(map(lambda restaurant: restaurant['name'], restaurants))\n",
    "names"
   ]
  },
  {
   "cell_type": "code",
   "execution_count": 4,
   "metadata": {},
   "outputs": [
    {
     "data": {
      "text/plain": [
       "['Fork & Fig',\n",
       " 'Salt And Board',\n",
       " 'Frontier Restaurant',\n",
       " 'Nexus Brewery',\n",
       " \"Devon's Pop Smoke\",\n",
       " 'Cocina Azul',\n",
       " 'Philly Steaks',\n",
       " 'Stripes Biscuit']"
      ]
     },
     "execution_count": 4,
     "metadata": {},
     "output_type": "execute_result"
    }
   ],
   "source": [
    "# Now how could we do the same thing with just a for loop:\n",
    "for_looped_names = [] #taking the place of the list function\n",
    "for restaurant in restaurants: #for loop taking the place of the map function \n",
    "    for_looped_names.append(restaurant['name']) #append doing the rest of the work of the lambda function\n",
    "\n",
    "for_looped_names\n"
   ]
  },
  {
   "cell_type": "markdown",
   "metadata": {},
   "source": [
    "Or how about another example from the same lab; bear with me if this all seems pretty simple, it is building to something...I hope.\n",
    "\n",
    "Let's say we wanted to get how many reviews were written for each restaurant. The code from the solution was:"
   ]
  },
  {
   "cell_type": "code",
   "execution_count": 5,
   "metadata": {},
   "outputs": [
    {
     "data": {
      "text/plain": [
       "[610, 11, 1373, 680, 54, 647, 25, 20]"
      ]
     },
     "execution_count": 5,
     "metadata": {},
     "output_type": "execute_result"
    }
   ],
   "source": [
    "review_counts = list(map(lambda restaurant: restaurant['review_count'], restaurants))\n",
    "review_counts # [610, 11, 1373, 680, 54, 647, 25, 20]"
   ]
  },
  {
   "cell_type": "markdown",
   "metadata": {},
   "source": [
    "Again there is nothing being done here that couldn't be accomplished using a for loop."
   ]
  },
  {
   "cell_type": "code",
   "execution_count": 6,
   "metadata": {},
   "outputs": [
    {
     "data": {
      "text/plain": [
       "[610, 11, 1373, 680, 54, 647, 25, 20]"
      ]
     },
     "execution_count": 6,
     "metadata": {},
     "output_type": "execute_result"
    }
   ],
   "source": [
    "review_counts_for_loopped = []\n",
    "for restaurant in restaurants:\n",
    "    review_counts_for_loopped.append(restaurant['review_count'])\n",
    "    \n",
    "review_counts_for_loopped"
   ]
  },
  {
   "cell_type": "markdown",
   "metadata": {},
   "source": [
    "So lambda, when combined with functions like list, map and filter, accomplish succinctly the same things we could accomplish verbosely using loops. \n",
    "\n",
    "Languages have a way they want to be used.  Javascript, Ruby...have a way about them. In working with Python it seems like this kind of economy of movement is what the language is looking for. \n",
    "\n",
    "Lambda, great got it. Simple. Until you see this:"
   ]
  },
  {
   "cell_type": "code",
   "execution_count": 26,
   "metadata": {},
   "outputs": [
    {
     "ename": "NameError",
     "evalue": "name 'interactions' is not defined",
     "output_type": "error",
     "traceback": [
      "\u001b[0;31m---------------------------------------------------------------------------\u001b[0m",
      "\u001b[0;31mNameError\u001b[0m                                 Traceback (most recent call last)",
      "\u001b[0;32m<ipython-input-26-5e2482ef3081>\u001b[0m in \u001b[0;36m<module>\u001b[0;34m()\u001b[0m\n\u001b[0;32m----> 1\u001b[0;31m \u001b[0mlist_interactions\u001b[0m \u001b[0;34m=\u001b[0m  \u001b[0msorted\u001b[0m\u001b[0;34m(\u001b[0m\u001b[0minteractions\u001b[0m\u001b[0;34m,\u001b[0m \u001b[0mkey\u001b[0m\u001b[0;34m=\u001b[0m\u001b[0;32mlambda\u001b[0m \u001b[0minter\u001b[0m\u001b[0;34m:\u001b[0m \u001b[0minter\u001b[0m\u001b[0;34m[\u001b[0m\u001b[0;36m2\u001b[0m\u001b[0;34m]\u001b[0m\u001b[0;34m,\u001b[0m \u001b[0mreverse\u001b[0m\u001b[0;34m=\u001b[0m\u001b[0;32mTrue\u001b[0m\u001b[0;34m)\u001b[0m\u001b[0;34m[\u001b[0m\u001b[0;34m:\u001b[0m\u001b[0;36m7\u001b[0m\u001b[0;34m]\u001b[0m\u001b[0;34m\u001b[0m\u001b[0m\n\u001b[0m",
      "\u001b[0;31mNameError\u001b[0m: name 'interactions' is not defined"
     ]
    }
   ],
   "source": [
    "list_interactions =  sorted(interactions, key=lambda inter: inter[2], reverse=True)[:7]"
   ]
  },
  {
   "cell_type": "markdown",
   "metadata": {},
   "source": [
    "It is important to remember that lambda is just a way of calling anonymous functions. Its power comes in combining it with other functions. In the example above, with the sorted function. Say we had a group of words:"
   ]
  },
  {
   "cell_type": "code",
   "execution_count": 13,
   "metadata": {},
   "outputs": [
    {
     "data": {
      "text/plain": [
       "['Some', 'differently', 'sort', 'words']"
      ]
     },
     "execution_count": 13,
     "metadata": {},
     "output_type": "execute_result"
    }
   ],
   "source": [
    "sorted(['Some', 'words', 'sort', 'differently'])"
   ]
  },
  {
   "cell_type": "markdown",
   "metadata": {},
   "source": [
    "The problem is that the sorted function is sorting upper case letters first, not taking alphabetic order into account. Now we could write a named function to be used with sorted:"
   ]
  },
  {
   "cell_type": "code",
   "execution_count": 14,
   "metadata": {},
   "outputs": [],
   "source": [
    "def lowercased(word): \n",
    "    return word.lower()"
   ]
  },
  {
   "cell_type": "code",
   "execution_count": 15,
   "metadata": {},
   "outputs": [
    {
     "data": {
      "text/plain": [
       "['differently', 'Some', 'sort', 'words']"
      ]
     },
     "execution_count": 15,
     "metadata": {},
     "output_type": "execute_result"
    }
   ],
   "source": [
    "sorted(['Some', 'words', 'sort', 'differently'], key=lowercased)"
   ]
  },
  {
   "cell_type": "markdown",
   "metadata": {},
   "source": [
    "Or we could just do it inline, using lambda:"
   ]
  },
  {
   "cell_type": "code",
   "execution_count": 11,
   "metadata": {},
   "outputs": [
    {
     "data": {
      "text/plain": [
       "['differently', 'Some', 'sort', 'words']"
      ]
     },
     "execution_count": 11,
     "metadata": {},
     "output_type": "execute_result"
    }
   ],
   "source": [
    "sorted(['Some', 'words', 'sort', 'differently'], key=lambda word: word.lower())"
   ]
  },
  {
   "cell_type": "markdown",
   "metadata": {},
   "source": [
    "_Full disclosure, the above example was taken almost verbatim from an answer posted on StackOverflow by [Martijn Pieters](https://stackoverflow.com/questions/13669252/what-is-key-lambda/13669294). Why reinvent the wheel...all hail Martijn!_"
   ]
  },
  {
   "cell_type": "markdown",
   "metadata": {},
   "source": [
    "### The List Comprhension"
   ]
  },
  {
   "cell_type": "markdown",
   "metadata": {},
   "source": [
    "I started with lambda because this kind of Russian Doll function-stuffing leads us nicely to the list comprehension. (Russian Doll, great show, by the way, very East Village.) "
   ]
  },
  {
   "cell_type": "code",
   "execution_count": 12,
   "metadata": {},
   "outputs": [],
   "source": [
    "# get some data to work with\n",
    "import pandas as pd\n",
    "import numpy as np\n",
    "df = pd.read_csv('train.csv')"
   ]
  },
  {
   "cell_type": "markdown",
   "metadata": {},
   "source": [
    "Let's take a look at it in action, the following example was taken from the Ridge and Lasso Regression Lab. In preparation for linear regression, we are asked to create a new data fame from an existing one, minus the target and any noncontinuous features."
   ]
  },
  {
   "cell_type": "markdown",
   "metadata": {},
   "source": [
    "In the solutions they do this by using a list comprehension:"
   ]
  },
  {
   "cell_type": "code",
   "execution_count": 13,
   "metadata": {},
   "outputs": [
    {
     "data": {
      "text/html": [
       "<div>\n",
       "<style scoped>\n",
       "    .dataframe tbody tr th:only-of-type {\n",
       "        vertical-align: middle;\n",
       "    }\n",
       "\n",
       "    .dataframe tbody tr th {\n",
       "        vertical-align: top;\n",
       "    }\n",
       "\n",
       "    .dataframe thead th {\n",
       "        text-align: right;\n",
       "    }\n",
       "</style>\n",
       "<table border=\"1\" class=\"dataframe\">\n",
       "  <thead>\n",
       "    <tr style=\"text-align: right;\">\n",
       "      <th></th>\n",
       "      <th>Id</th>\n",
       "      <th>MSSubClass</th>\n",
       "      <th>LotFrontage</th>\n",
       "      <th>LotArea</th>\n",
       "      <th>OverallQual</th>\n",
       "      <th>OverallCond</th>\n",
       "      <th>YearBuilt</th>\n",
       "      <th>YearRemodAdd</th>\n",
       "      <th>MasVnrArea</th>\n",
       "      <th>BsmtFinSF1</th>\n",
       "      <th>...</th>\n",
       "      <th>GarageArea</th>\n",
       "      <th>WoodDeckSF</th>\n",
       "      <th>OpenPorchSF</th>\n",
       "      <th>EnclosedPorch</th>\n",
       "      <th>3SsnPorch</th>\n",
       "      <th>ScreenPorch</th>\n",
       "      <th>PoolArea</th>\n",
       "      <th>MiscVal</th>\n",
       "      <th>MoSold</th>\n",
       "      <th>YrSold</th>\n",
       "    </tr>\n",
       "  </thead>\n",
       "  <tbody>\n",
       "    <tr>\n",
       "      <th>0</th>\n",
       "      <td>1</td>\n",
       "      <td>60</td>\n",
       "      <td>65.0</td>\n",
       "      <td>8450</td>\n",
       "      <td>7</td>\n",
       "      <td>5</td>\n",
       "      <td>2003</td>\n",
       "      <td>2003</td>\n",
       "      <td>196.0</td>\n",
       "      <td>706</td>\n",
       "      <td>...</td>\n",
       "      <td>548</td>\n",
       "      <td>0</td>\n",
       "      <td>61</td>\n",
       "      <td>0</td>\n",
       "      <td>0</td>\n",
       "      <td>0</td>\n",
       "      <td>0</td>\n",
       "      <td>0</td>\n",
       "      <td>2</td>\n",
       "      <td>2008</td>\n",
       "    </tr>\n",
       "    <tr>\n",
       "      <th>1</th>\n",
       "      <td>2</td>\n",
       "      <td>20</td>\n",
       "      <td>80.0</td>\n",
       "      <td>9600</td>\n",
       "      <td>6</td>\n",
       "      <td>8</td>\n",
       "      <td>1976</td>\n",
       "      <td>1976</td>\n",
       "      <td>0.0</td>\n",
       "      <td>978</td>\n",
       "      <td>...</td>\n",
       "      <td>460</td>\n",
       "      <td>298</td>\n",
       "      <td>0</td>\n",
       "      <td>0</td>\n",
       "      <td>0</td>\n",
       "      <td>0</td>\n",
       "      <td>0</td>\n",
       "      <td>0</td>\n",
       "      <td>5</td>\n",
       "      <td>2007</td>\n",
       "    </tr>\n",
       "    <tr>\n",
       "      <th>2</th>\n",
       "      <td>3</td>\n",
       "      <td>60</td>\n",
       "      <td>68.0</td>\n",
       "      <td>11250</td>\n",
       "      <td>7</td>\n",
       "      <td>5</td>\n",
       "      <td>2001</td>\n",
       "      <td>2002</td>\n",
       "      <td>162.0</td>\n",
       "      <td>486</td>\n",
       "      <td>...</td>\n",
       "      <td>608</td>\n",
       "      <td>0</td>\n",
       "      <td>42</td>\n",
       "      <td>0</td>\n",
       "      <td>0</td>\n",
       "      <td>0</td>\n",
       "      <td>0</td>\n",
       "      <td>0</td>\n",
       "      <td>9</td>\n",
       "      <td>2008</td>\n",
       "    </tr>\n",
       "    <tr>\n",
       "      <th>3</th>\n",
       "      <td>4</td>\n",
       "      <td>70</td>\n",
       "      <td>60.0</td>\n",
       "      <td>9550</td>\n",
       "      <td>7</td>\n",
       "      <td>5</td>\n",
       "      <td>1915</td>\n",
       "      <td>1970</td>\n",
       "      <td>0.0</td>\n",
       "      <td>216</td>\n",
       "      <td>...</td>\n",
       "      <td>642</td>\n",
       "      <td>0</td>\n",
       "      <td>35</td>\n",
       "      <td>272</td>\n",
       "      <td>0</td>\n",
       "      <td>0</td>\n",
       "      <td>0</td>\n",
       "      <td>0</td>\n",
       "      <td>2</td>\n",
       "      <td>2006</td>\n",
       "    </tr>\n",
       "    <tr>\n",
       "      <th>4</th>\n",
       "      <td>5</td>\n",
       "      <td>60</td>\n",
       "      <td>84.0</td>\n",
       "      <td>14260</td>\n",
       "      <td>8</td>\n",
       "      <td>5</td>\n",
       "      <td>2000</td>\n",
       "      <td>2000</td>\n",
       "      <td>350.0</td>\n",
       "      <td>655</td>\n",
       "      <td>...</td>\n",
       "      <td>836</td>\n",
       "      <td>192</td>\n",
       "      <td>84</td>\n",
       "      <td>0</td>\n",
       "      <td>0</td>\n",
       "      <td>0</td>\n",
       "      <td>0</td>\n",
       "      <td>0</td>\n",
       "      <td>12</td>\n",
       "      <td>2008</td>\n",
       "    </tr>\n",
       "  </tbody>\n",
       "</table>\n",
       "<p>5 rows × 37 columns</p>\n",
       "</div>"
      ],
      "text/plain": [
       "   Id  MSSubClass  LotFrontage  LotArea  OverallQual  OverallCond  YearBuilt  \\\n",
       "0   1          60         65.0     8450            7            5       2003   \n",
       "1   2          20         80.0     9600            6            8       1976   \n",
       "2   3          60         68.0    11250            7            5       2001   \n",
       "3   4          70         60.0     9550            7            5       1915   \n",
       "4   5          60         84.0    14260            8            5       2000   \n",
       "\n",
       "   YearRemodAdd  MasVnrArea  BsmtFinSF1   ...    GarageArea  WoodDeckSF  \\\n",
       "0          2003       196.0         706   ...           548           0   \n",
       "1          1976         0.0         978   ...           460         298   \n",
       "2          2002       162.0         486   ...           608           0   \n",
       "3          1970         0.0         216   ...           642           0   \n",
       "4          2000       350.0         655   ...           836         192   \n",
       "\n",
       "   OpenPorchSF  EnclosedPorch  3SsnPorch  ScreenPorch  PoolArea  MiscVal  \\\n",
       "0           61              0          0            0         0        0   \n",
       "1            0              0          0            0         0        0   \n",
       "2           42              0          0            0         0        0   \n",
       "3           35            272          0            0         0        0   \n",
       "4           84              0          0            0         0        0   \n",
       "\n",
       "   MoSold  YrSold  \n",
       "0       2    2008  \n",
       "1       5    2007  \n",
       "2       9    2008  \n",
       "3       2    2006  \n",
       "4      12    2008  \n",
       "\n",
       "[5 rows x 37 columns]"
      ]
     },
     "execution_count": 13,
     "metadata": {},
     "output_type": "execute_result"
    }
   ],
   "source": [
    "features = [col for col in df.columns if df[col].dtype in [np.float64, np.int64] and col!='SalePrice']\n",
    "X = df[features]\n",
    "X.head()"
   ]
  },
  {
   "cell_type": "markdown",
   "metadata": {},
   "source": [
    "Which we could just as easily do with a, you guessed it, a loop. "
   ]
  },
  {
   "cell_type": "code",
   "execution_count": 14,
   "metadata": {},
   "outputs": [
    {
     "data": {
      "text/html": [
       "<div>\n",
       "<style scoped>\n",
       "    .dataframe tbody tr th:only-of-type {\n",
       "        vertical-align: middle;\n",
       "    }\n",
       "\n",
       "    .dataframe tbody tr th {\n",
       "        vertical-align: top;\n",
       "    }\n",
       "\n",
       "    .dataframe thead th {\n",
       "        text-align: right;\n",
       "    }\n",
       "</style>\n",
       "<table border=\"1\" class=\"dataframe\">\n",
       "  <thead>\n",
       "    <tr style=\"text-align: right;\">\n",
       "      <th></th>\n",
       "      <th>Id</th>\n",
       "      <th>MSSubClass</th>\n",
       "      <th>LotFrontage</th>\n",
       "      <th>LotArea</th>\n",
       "      <th>OverallQual</th>\n",
       "      <th>OverallCond</th>\n",
       "      <th>YearBuilt</th>\n",
       "      <th>YearRemodAdd</th>\n",
       "      <th>MasVnrArea</th>\n",
       "      <th>BsmtFinSF1</th>\n",
       "      <th>...</th>\n",
       "      <th>GarageArea</th>\n",
       "      <th>WoodDeckSF</th>\n",
       "      <th>OpenPorchSF</th>\n",
       "      <th>EnclosedPorch</th>\n",
       "      <th>3SsnPorch</th>\n",
       "      <th>ScreenPorch</th>\n",
       "      <th>PoolArea</th>\n",
       "      <th>MiscVal</th>\n",
       "      <th>MoSold</th>\n",
       "      <th>YrSold</th>\n",
       "    </tr>\n",
       "  </thead>\n",
       "  <tbody>\n",
       "    <tr>\n",
       "      <th>0</th>\n",
       "      <td>1</td>\n",
       "      <td>60</td>\n",
       "      <td>65.0</td>\n",
       "      <td>8450</td>\n",
       "      <td>7</td>\n",
       "      <td>5</td>\n",
       "      <td>2003</td>\n",
       "      <td>2003</td>\n",
       "      <td>196.0</td>\n",
       "      <td>706</td>\n",
       "      <td>...</td>\n",
       "      <td>548</td>\n",
       "      <td>0</td>\n",
       "      <td>61</td>\n",
       "      <td>0</td>\n",
       "      <td>0</td>\n",
       "      <td>0</td>\n",
       "      <td>0</td>\n",
       "      <td>0</td>\n",
       "      <td>2</td>\n",
       "      <td>2008</td>\n",
       "    </tr>\n",
       "    <tr>\n",
       "      <th>1</th>\n",
       "      <td>2</td>\n",
       "      <td>20</td>\n",
       "      <td>80.0</td>\n",
       "      <td>9600</td>\n",
       "      <td>6</td>\n",
       "      <td>8</td>\n",
       "      <td>1976</td>\n",
       "      <td>1976</td>\n",
       "      <td>0.0</td>\n",
       "      <td>978</td>\n",
       "      <td>...</td>\n",
       "      <td>460</td>\n",
       "      <td>298</td>\n",
       "      <td>0</td>\n",
       "      <td>0</td>\n",
       "      <td>0</td>\n",
       "      <td>0</td>\n",
       "      <td>0</td>\n",
       "      <td>0</td>\n",
       "      <td>5</td>\n",
       "      <td>2007</td>\n",
       "    </tr>\n",
       "    <tr>\n",
       "      <th>2</th>\n",
       "      <td>3</td>\n",
       "      <td>60</td>\n",
       "      <td>68.0</td>\n",
       "      <td>11250</td>\n",
       "      <td>7</td>\n",
       "      <td>5</td>\n",
       "      <td>2001</td>\n",
       "      <td>2002</td>\n",
       "      <td>162.0</td>\n",
       "      <td>486</td>\n",
       "      <td>...</td>\n",
       "      <td>608</td>\n",
       "      <td>0</td>\n",
       "      <td>42</td>\n",
       "      <td>0</td>\n",
       "      <td>0</td>\n",
       "      <td>0</td>\n",
       "      <td>0</td>\n",
       "      <td>0</td>\n",
       "      <td>9</td>\n",
       "      <td>2008</td>\n",
       "    </tr>\n",
       "    <tr>\n",
       "      <th>3</th>\n",
       "      <td>4</td>\n",
       "      <td>70</td>\n",
       "      <td>60.0</td>\n",
       "      <td>9550</td>\n",
       "      <td>7</td>\n",
       "      <td>5</td>\n",
       "      <td>1915</td>\n",
       "      <td>1970</td>\n",
       "      <td>0.0</td>\n",
       "      <td>216</td>\n",
       "      <td>...</td>\n",
       "      <td>642</td>\n",
       "      <td>0</td>\n",
       "      <td>35</td>\n",
       "      <td>272</td>\n",
       "      <td>0</td>\n",
       "      <td>0</td>\n",
       "      <td>0</td>\n",
       "      <td>0</td>\n",
       "      <td>2</td>\n",
       "      <td>2006</td>\n",
       "    </tr>\n",
       "    <tr>\n",
       "      <th>4</th>\n",
       "      <td>5</td>\n",
       "      <td>60</td>\n",
       "      <td>84.0</td>\n",
       "      <td>14260</td>\n",
       "      <td>8</td>\n",
       "      <td>5</td>\n",
       "      <td>2000</td>\n",
       "      <td>2000</td>\n",
       "      <td>350.0</td>\n",
       "      <td>655</td>\n",
       "      <td>...</td>\n",
       "      <td>836</td>\n",
       "      <td>192</td>\n",
       "      <td>84</td>\n",
       "      <td>0</td>\n",
       "      <td>0</td>\n",
       "      <td>0</td>\n",
       "      <td>0</td>\n",
       "      <td>0</td>\n",
       "      <td>12</td>\n",
       "      <td>2008</td>\n",
       "    </tr>\n",
       "  </tbody>\n",
       "</table>\n",
       "<p>5 rows × 37 columns</p>\n",
       "</div>"
      ],
      "text/plain": [
       "   Id  MSSubClass  LotFrontage  LotArea  OverallQual  OverallCond  YearBuilt  \\\n",
       "0   1          60         65.0     8450            7            5       2003   \n",
       "1   2          20         80.0     9600            6            8       1976   \n",
       "2   3          60         68.0    11250            7            5       2001   \n",
       "3   4          70         60.0     9550            7            5       1915   \n",
       "4   5          60         84.0    14260            8            5       2000   \n",
       "\n",
       "   YearRemodAdd  MasVnrArea  BsmtFinSF1   ...    GarageArea  WoodDeckSF  \\\n",
       "0          2003       196.0         706   ...           548           0   \n",
       "1          1976         0.0         978   ...           460         298   \n",
       "2          2002       162.0         486   ...           608           0   \n",
       "3          1970         0.0         216   ...           642           0   \n",
       "4          2000       350.0         655   ...           836         192   \n",
       "\n",
       "   OpenPorchSF  EnclosedPorch  3SsnPorch  ScreenPorch  PoolArea  MiscVal  \\\n",
       "0           61              0          0            0         0        0   \n",
       "1            0              0          0            0         0        0   \n",
       "2           42              0          0            0         0        0   \n",
       "3           35            272          0            0         0        0   \n",
       "4           84              0          0            0         0        0   \n",
       "\n",
       "   MoSold  YrSold  \n",
       "0       2    2008  \n",
       "1       5    2007  \n",
       "2       9    2008  \n",
       "3       2    2006  \n",
       "4      12    2008  \n",
       "\n",
       "[5 rows x 37 columns]"
      ]
     },
     "execution_count": 14,
     "metadata": {},
     "output_type": "execute_result"
    }
   ],
   "source": [
    "features = []\n",
    "for col in df.columns:\n",
    "    if df[col].dtype == float or df[col].dtype == int and col != \"SalePrice\":\n",
    "        features.append(col)\n",
    "    \n",
    "X = df[features]\n",
    "X.head()"
   ]
  },
  {
   "cell_type": "markdown",
   "metadata": {},
   "source": [
    "We are basically just wrapping a for loop in brackets and the rest takes care of itself. This kind of brevity seems a key feature of Python and something I think we should be striving for in our own code. Without sacrificing readability, of course.   "
   ]
  },
  {
   "cell_type": "markdown",
   "metadata": {},
   "source": [
    "# <center> Pop Inquisition!!</center>"
   ]
  },
  {
   "cell_type": "markdown",
   "metadata": {},
   "source": [
    "<img src='inquisition.gif'>"
   ]
  },
  {
   "cell_type": "markdown",
   "metadata": {},
   "source": [
    "First, I will make a list of squares using a for loop:"
   ]
  },
  {
   "cell_type": "code",
   "execution_count": 15,
   "metadata": {},
   "outputs": [],
   "source": [
    "squares = []\n",
    "for i in range(1, 21):\n",
    "    if i ** 2 % 2 == 0:\n",
    "        squares.append(i ** 2)"
   ]
  },
  {
   "cell_type": "code",
   "execution_count": 23,
   "metadata": {},
   "outputs": [
    {
     "data": {
      "text/plain": [
       "[4, 16, 36, 64, 100, 144, 196, 256, 324, 400]"
      ]
     },
     "execution_count": 23,
     "metadata": {},
     "output_type": "execute_result"
    }
   ],
   "source": [
    "squares"
   ]
  },
  {
   "cell_type": "markdown",
   "metadata": {},
   "source": [
    "Does anybody want to take a shot writing the same code as a list comprehension?"
   ]
  },
  {
   "cell_type": "code",
   "execution_count": 24,
   "metadata": {},
   "outputs": [],
   "source": [
    "# answer: squares = [x ** 2 for x in range(1,21) if x % 2 == 0]\n"
   ]
  },
  {
   "cell_type": "markdown",
   "metadata": {},
   "source": [
    "Now how we find all numbers within the list that are between 60 and 300:"
   ]
  },
  {
   "cell_type": "code",
   "execution_count": 25,
   "metadata": {},
   "outputs": [
    {
     "name": "stdout",
     "output_type": "stream",
     "text": [
      "[64, 100, 144, 196, 256]\n"
     ]
    }
   ],
   "source": [
    "def f(x):\n",
    "    if x > 60 and x < 300:\n",
    "        return True\n",
    "    else:\n",
    "        return False\n",
    "    \n",
    "print(list(filter(f, squares)))"
   ]
  },
  {
   "cell_type": "markdown",
   "metadata": {},
   "source": [
    "Who can do the same thing, but using a lambda function?"
   ]
  },
  {
   "cell_type": "code",
   "execution_count": 19,
   "metadata": {},
   "outputs": [],
   "source": [
    "# answer: print(list(filter(lambda x : x > 60 and x < 300, squares)))"
   ]
  },
  {
   "cell_type": "markdown",
   "metadata": {},
   "source": [
    "There are two more functions I have come across that I would like to touch on. The first or which is:"
   ]
  },
  {
   "cell_type": "markdown",
   "metadata": {},
   "source": [
    "## Zip\n"
   ]
  },
  {
   "cell_type": "markdown",
   "metadata": {},
   "source": [
    "<img src='zip.jpg'>"
   ]
  },
  {
   "cell_type": "markdown",
   "metadata": {},
   "source": [
    "I came across zip a couple of times, but could never figure out how to use it in my own code. I finally had the chance while working on the Module 2 final project. Bear with me as will need to load a SQL data base and run a few lines of code for our example to work."
   ]
  },
  {
   "cell_type": "code",
   "execution_count": 29,
   "metadata": {},
   "outputs": [
    {
     "name": "stdout",
     "output_type": "stream",
     "text": [
      "2019-03-25 20:56:01,018 INFO sqlalchemy.engine.base.Engine SELECT CAST('test plain returns' AS VARCHAR(60)) AS anon_1\n",
      "2019-03-25 20:56:01,019 INFO sqlalchemy.engine.base.Engine ()\n",
      "2019-03-25 20:56:01,020 INFO sqlalchemy.engine.base.Engine SELECT CAST('test unicode returns' AS VARCHAR(60)) AS anon_1\n",
      "2019-03-25 20:56:01,021 INFO sqlalchemy.engine.base.Engine ()\n"
     ]
    }
   ],
   "source": [
    "import sqlite3 as sql\n",
    "from sqlalchemy import create_engine\n",
    "from sqlalchemy.orm import Session, sessionmaker\n",
    "from sqlalchemy import inspect\n",
    "\n",
    "engine = create_engine('sqlite:///Northwind_small.sqlite', echo=True)\n",
    "Session = sessionmaker(bind=engine)\n",
    "session = Session()\n",
    "conn = engine.connect()"
   ]
  },
  {
   "cell_type": "code",
   "execution_count": null,
   "metadata": {},
   "outputs": [],
   "source": []
  },
  {
   "cell_type": "markdown",
   "metadata": {},
   "source": [
    "So the problem at hand: I have an SQL database with multipliable tables that I want to convert into individual panda dataframes.  First I want to get a list of the table names."
   ]
  },
  {
   "cell_type": "code",
   "execution_count": 37,
   "metadata": {},
   "outputs": [
    {
     "name": "stdout",
     "output_type": "stream",
     "text": [
      "2019-03-25 21:14:17,275 INFO sqlalchemy.engine.base.Engine SELECT name FROM sqlite_master WHERE type='table' ORDER BY name\n",
      "2019-03-25 21:14:17,277 INFO sqlalchemy.engine.base.Engine ()\n"
     ]
    },
    {
     "data": {
      "text/plain": [
       "['Category',\n",
       " 'Customer',\n",
       " 'CustomerCustomerDemo',\n",
       " 'CustomerDemographic',\n",
       " 'Employee',\n",
       " 'EmployeeTerritory',\n",
       " 'Order',\n",
       " 'OrderDetail',\n",
       " 'Product',\n",
       " 'Region',\n",
       " 'Shipper',\n",
       " 'Supplier',\n",
       " 'Territory']"
      ]
     },
     "execution_count": 37,
     "metadata": {},
     "output_type": "execute_result"
    }
   ],
   "source": [
    "inspector = inspect(engine)\n",
    "table_names = inspector.get_table_names()\n",
    "table_names"
   ]
  },
  {
   "cell_type": "markdown",
   "metadata": {},
   "source": [
    "Now I want to create a list of  SQL queries, I can do this with a list comprehension:"
   ]
  },
  {
   "cell_type": "code",
   "execution_count": 38,
   "metadata": {},
   "outputs": [],
   "source": [
    "sql_conns = ['SELECT * FROM [Order]' if name == 'Order' else 'SELECT * FROM ' + name for name in table_names]"
   ]
  },
  {
   "cell_type": "markdown",
   "metadata": {},
   "source": [
    "__Point of Interest:__ notice how I have put the exception - [order] - at the front of the query. If you try to make the exception the _else_, the code will throw an error. "
   ]
  },
  {
   "cell_type": "markdown",
   "metadata": {},
   "source": [
    "Huh what now, how can I take my two lists and somehow merge them together to create my dictionary of data-frames. Be like Dr. Evil and zip it! He is a Dr. after all."
   ]
  },
  {
   "cell_type": "code",
   "execution_count": 39,
   "metadata": {},
   "outputs": [
    {
     "name": "stdout",
     "output_type": "stream",
     "text": [
      "2019-03-25 21:19:29,315 INFO sqlalchemy.engine.base.Engine SELECT * FROM Category\n",
      "2019-03-25 21:19:29,316 INFO sqlalchemy.engine.base.Engine ()\n",
      "2019-03-25 21:19:29,321 INFO sqlalchemy.engine.base.Engine SELECT * FROM Customer\n",
      "2019-03-25 21:19:29,322 INFO sqlalchemy.engine.base.Engine ()\n",
      "2019-03-25 21:19:29,327 INFO sqlalchemy.engine.base.Engine SELECT * FROM CustomerCustomerDemo\n",
      "2019-03-25 21:19:29,327 INFO sqlalchemy.engine.base.Engine ()\n",
      "2019-03-25 21:19:29,330 INFO sqlalchemy.engine.base.Engine SELECT * FROM CustomerDemographic\n",
      "2019-03-25 21:19:29,331 INFO sqlalchemy.engine.base.Engine ()\n",
      "2019-03-25 21:19:29,333 INFO sqlalchemy.engine.base.Engine SELECT * FROM Employee\n",
      "2019-03-25 21:19:29,337 INFO sqlalchemy.engine.base.Engine ()\n",
      "2019-03-25 21:19:29,345 INFO sqlalchemy.engine.base.Engine SELECT * FROM EmployeeTerritory\n",
      "2019-03-25 21:19:29,346 INFO sqlalchemy.engine.base.Engine ()\n",
      "2019-03-25 21:19:29,350 INFO sqlalchemy.engine.base.Engine SELECT * FROM [Order]\n",
      "2019-03-25 21:19:29,350 INFO sqlalchemy.engine.base.Engine ()\n",
      "2019-03-25 21:19:29,360 INFO sqlalchemy.engine.base.Engine SELECT * FROM OrderDetail\n",
      "2019-03-25 21:19:29,361 INFO sqlalchemy.engine.base.Engine ()\n",
      "2019-03-25 21:19:29,374 INFO sqlalchemy.engine.base.Engine SELECT * FROM Product\n",
      "2019-03-25 21:19:29,375 INFO sqlalchemy.engine.base.Engine ()\n",
      "2019-03-25 21:19:29,380 INFO sqlalchemy.engine.base.Engine SELECT * FROM Region\n",
      "2019-03-25 21:19:29,381 INFO sqlalchemy.engine.base.Engine ()\n",
      "2019-03-25 21:19:29,385 INFO sqlalchemy.engine.base.Engine SELECT * FROM Shipper\n",
      "2019-03-25 21:19:29,387 INFO sqlalchemy.engine.base.Engine ()\n",
      "2019-03-25 21:19:29,391 INFO sqlalchemy.engine.base.Engine SELECT * FROM Supplier\n",
      "2019-03-25 21:19:29,392 INFO sqlalchemy.engine.base.Engine ()\n",
      "2019-03-25 21:19:29,397 INFO sqlalchemy.engine.base.Engine SELECT * FROM Territory\n",
      "2019-03-25 21:19:29,398 INFO sqlalchemy.engine.base.Engine ()\n"
     ]
    }
   ],
   "source": [
    "dataframes = {}\n",
    "for table, sql_conn in zip(table_names, sql_conns):\n",
    "    dataframes[table] = pd.read_sql_query(sql_conn, conn) "
   ]
  },
  {
   "cell_type": "code",
   "execution_count": 40,
   "metadata": {},
   "outputs": [
    {
     "data": {
      "text/plain": [
       "dict_keys(['Category', 'Customer', 'CustomerCustomerDemo', 'CustomerDemographic', 'Employee', 'EmployeeTerritory', 'Order', 'OrderDetail', 'Product', 'Region', 'Shipper', 'Supplier', 'Territory'])"
      ]
     },
     "execution_count": 40,
     "metadata": {},
     "output_type": "execute_result"
    }
   ],
   "source": [
    "dataframes.keys()"
   ]
  },
  {
   "cell_type": "code",
   "execution_count": 41,
   "metadata": {},
   "outputs": [
    {
     "data": {
      "text/html": [
       "<div>\n",
       "<style scoped>\n",
       "    .dataframe tbody tr th:only-of-type {\n",
       "        vertical-align: middle;\n",
       "    }\n",
       "\n",
       "    .dataframe tbody tr th {\n",
       "        vertical-align: top;\n",
       "    }\n",
       "\n",
       "    .dataframe thead th {\n",
       "        text-align: right;\n",
       "    }\n",
       "</style>\n",
       "<table border=\"1\" class=\"dataframe\">\n",
       "  <thead>\n",
       "    <tr style=\"text-align: right;\">\n",
       "      <th></th>\n",
       "      <th>Id</th>\n",
       "      <th>CompanyName</th>\n",
       "      <th>ContactName</th>\n",
       "      <th>ContactTitle</th>\n",
       "      <th>Address</th>\n",
       "      <th>City</th>\n",
       "      <th>Region</th>\n",
       "      <th>PostalCode</th>\n",
       "      <th>Country</th>\n",
       "      <th>Phone</th>\n",
       "      <th>Fax</th>\n",
       "    </tr>\n",
       "  </thead>\n",
       "  <tbody>\n",
       "    <tr>\n",
       "      <th>0</th>\n",
       "      <td>ALFKI</td>\n",
       "      <td>Alfreds Futterkiste</td>\n",
       "      <td>Maria Anders</td>\n",
       "      <td>Sales Representative</td>\n",
       "      <td>Obere Str. 57</td>\n",
       "      <td>Berlin</td>\n",
       "      <td>Western Europe</td>\n",
       "      <td>12209</td>\n",
       "      <td>Germany</td>\n",
       "      <td>030-0074321</td>\n",
       "      <td>030-0076545</td>\n",
       "    </tr>\n",
       "    <tr>\n",
       "      <th>1</th>\n",
       "      <td>ANATR</td>\n",
       "      <td>Ana Trujillo Emparedados y helados</td>\n",
       "      <td>Ana Trujillo</td>\n",
       "      <td>Owner</td>\n",
       "      <td>Avda. de la Constitución 2222</td>\n",
       "      <td>México D.F.</td>\n",
       "      <td>Central America</td>\n",
       "      <td>05021</td>\n",
       "      <td>Mexico</td>\n",
       "      <td>(5) 555-4729</td>\n",
       "      <td>(5) 555-3745</td>\n",
       "    </tr>\n",
       "    <tr>\n",
       "      <th>2</th>\n",
       "      <td>ANTON</td>\n",
       "      <td>Antonio Moreno Taquería</td>\n",
       "      <td>Antonio Moreno</td>\n",
       "      <td>Owner</td>\n",
       "      <td>Mataderos  2312</td>\n",
       "      <td>México D.F.</td>\n",
       "      <td>Central America</td>\n",
       "      <td>05023</td>\n",
       "      <td>Mexico</td>\n",
       "      <td>(5) 555-3932</td>\n",
       "      <td>None</td>\n",
       "    </tr>\n",
       "    <tr>\n",
       "      <th>3</th>\n",
       "      <td>AROUT</td>\n",
       "      <td>Around the Horn</td>\n",
       "      <td>Thomas Hardy</td>\n",
       "      <td>Sales Representative</td>\n",
       "      <td>120 Hanover Sq.</td>\n",
       "      <td>London</td>\n",
       "      <td>British Isles</td>\n",
       "      <td>WA1 1DP</td>\n",
       "      <td>UK</td>\n",
       "      <td>(171) 555-7788</td>\n",
       "      <td>(171) 555-6750</td>\n",
       "    </tr>\n",
       "    <tr>\n",
       "      <th>4</th>\n",
       "      <td>BERGS</td>\n",
       "      <td>Berglunds snabbköp</td>\n",
       "      <td>Christina Berglund</td>\n",
       "      <td>Order Administrator</td>\n",
       "      <td>Berguvsvägen  8</td>\n",
       "      <td>Luleå</td>\n",
       "      <td>Northern Europe</td>\n",
       "      <td>S-958 22</td>\n",
       "      <td>Sweden</td>\n",
       "      <td>0921-12 34 65</td>\n",
       "      <td>0921-12 34 67</td>\n",
       "    </tr>\n",
       "  </tbody>\n",
       "</table>\n",
       "</div>"
      ],
      "text/plain": [
       "      Id                         CompanyName         ContactName  \\\n",
       "0  ALFKI                 Alfreds Futterkiste        Maria Anders   \n",
       "1  ANATR  Ana Trujillo Emparedados y helados        Ana Trujillo   \n",
       "2  ANTON             Antonio Moreno Taquería      Antonio Moreno   \n",
       "3  AROUT                     Around the Horn        Thomas Hardy   \n",
       "4  BERGS                  Berglunds snabbköp  Christina Berglund   \n",
       "\n",
       "           ContactTitle                        Address         City  \\\n",
       "0  Sales Representative                  Obere Str. 57       Berlin   \n",
       "1                 Owner  Avda. de la Constitución 2222  México D.F.   \n",
       "2                 Owner                Mataderos  2312  México D.F.   \n",
       "3  Sales Representative                120 Hanover Sq.       London   \n",
       "4   Order Administrator                Berguvsvägen  8        Luleå   \n",
       "\n",
       "            Region PostalCode  Country           Phone             Fax  \n",
       "0   Western Europe      12209  Germany     030-0074321     030-0076545  \n",
       "1  Central America      05021   Mexico    (5) 555-4729    (5) 555-3745  \n",
       "2  Central America      05023   Mexico    (5) 555-3932            None  \n",
       "3    British Isles    WA1 1DP       UK  (171) 555-7788  (171) 555-6750  \n",
       "4  Northern Europe   S-958 22   Sweden   0921-12 34 65   0921-12 34 67  "
      ]
     },
     "execution_count": 41,
     "metadata": {},
     "output_type": "execute_result"
    }
   ],
   "source": [
    "dataframes['Customer'].head()"
   ]
  },
  {
   "cell_type": "markdown",
   "metadata": {},
   "source": [
    "Success! As we see zip does exactly that, it zips things together. Here two lists, saving me a bunch of time having to individually assign each of these SQL queries to individual variables. Also, it would be quite easy to name this function and reuse it if we needed to scale. \n",
    "\n",
    "Which brings us to our last function of the day, similar in spirit to zip -"
   ]
  },
  {
   "cell_type": "markdown",
   "metadata": {},
   "source": [
    "## Enumerate"
   ]
  },
  {
   "cell_type": "markdown",
   "metadata": {},
   "source": [
    "Basically this function that allows you to iterate over the index and value of an item in a list, without using the dreaded counter. So say we wanted to iterate over a list of seventies detectives and assign them a rank, with 0 being bad-bad-mama-jama, who don't need no number to tell them how bad they are. "
   ]
  },
  {
   "cell_type": "code",
   "execution_count": 50,
   "metadata": {},
   "outputs": [],
   "source": [
    "gum_shoes = ['Kojak', 'Jim Rockford', 'Virgil Tibbs', 'Quincy', 'Columbo', 'Jennifer Hart', 'Starsky (but not Hutch)']"
   ]
  },
  {
   "cell_type": "markdown",
   "metadata": {},
   "source": [
    "Normally if we would want to accomplish this, we would have to do something like this:"
   ]
  },
  {
   "cell_type": "code",
   "execution_count": 51,
   "metadata": {},
   "outputs": [
    {
     "name": "stdout",
     "output_type": "stream",
     "text": [
      "0 Kojak\n",
      "1 Jim Rockford\n",
      "2 Virgil Tibbs\n",
      "3 Quincy\n",
      "4 Columbo\n",
      "5 Jennifer Hart\n",
      "6 Starsky (but not Hutch)\n"
     ]
    }
   ],
   "source": [
    "i = 0\n",
    "for sluth in gum_shoes:\n",
    "    print(i, sluth)\n",
    "    i+=1"
   ]
  },
  {
   "cell_type": "markdown",
   "metadata": {},
   "source": [
    "Or we could do something line this:"
   ]
  },
  {
   "cell_type": "code",
   "execution_count": 53,
   "metadata": {},
   "outputs": [
    {
     "name": "stdout",
     "output_type": "stream",
     "text": [
      "0 Kojak\n",
      "1 Jim Rockford\n",
      "2 Virgil Tibbs\n",
      "3 Quincy\n",
      "4 Columbo\n",
      "5 Jennifer Hart\n",
      "6 Starsky (but not Hutch)\n"
     ]
    }
   ],
   "source": [
    "for i, sluth in enumerate(gum_shoes):\n",
    "    print(i, sluth) "
   ]
  },
  {
   "cell_type": "markdown",
   "metadata": {},
   "source": [
    "Much more eloquent and it gets better. There is no doubt that \"Who love's you baby' Kojak has nothing to prove, but lets say we wanted to give him the big number one anyway. "
   ]
  }
 ],
 "metadata": {
  "kernelspec": {
   "display_name": "Python 3",
   "language": "python",
   "name": "python3"
  },
  "language_info": {
   "codemirror_mode": {
    "name": "ipython",
    "version": 3
   },
   "file_extension": ".py",
   "mimetype": "text/x-python",
   "name": "python",
   "nbconvert_exporter": "python",
   "pygments_lexer": "ipython3",
   "version": "3.7.0"
  }
 },
 "nbformat": 4,
 "nbformat_minor": 2
}
