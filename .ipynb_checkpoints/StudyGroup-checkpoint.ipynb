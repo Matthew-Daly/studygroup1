{
 "cells": [
  {
   "cell_type": "markdown",
   "metadata": {},
   "source": [
    "# Ever feel like Charley?"
   ]
  },
  {
   "cell_type": "markdown",
   "metadata": {},
   "source": [
    "<img src='charley.2e16d0ba.fill-735x490.jpg'>"
   ]
  },
  {
   "cell_type": "markdown",
   "metadata": {},
   "source": [
    "# Welcome to Code from the Solutions - the stuff that makes you go huh?"
   ]
  },
  {
   "cell_type": "markdown",
   "metadata": {},
   "source": [
    "### Your host - Matthew Daly"
   ]
  },
  {
   "cell_type": "markdown",
   "metadata": {},
   "source": [
    "#### Linkedin:\n",
    "https://www.linkedin.com/in/matthew-d-12a22156/  <br/>\n",
    "Please feel free to connect with me. My friend tells me I need more friends. "
   ]
  },
  {
   "cell_type": "markdown",
   "metadata": {},
   "source": [
    "## Preamble"
   ]
  },
  {
   "cell_type": "markdown",
   "metadata": {},
   "source": [
    "Before we get started, a little background on why I decided to host a study group on this topic. In preparation for starting a bootcamp I spent a fair bit of time on [CodeWars](https://www.codewars.com/r/Btbo-Q). \n",
    "\n",
    "I would like to share a couple of my experiences from there. These examples are in JavaScript but don't worry about trying to follow the code, they are more emotional examples than anything else. \n"
   ]
  },
  {
   "cell_type": "markdown",
   "metadata": {},
   "source": [
    "## The Challenge - Snail"
   ]
  },
  {
   "cell_type": "raw",
   "metadata": {},
   "source": [
    "Given an n x n array, return the array elements arranged from outermost elements to the middle element, traveling clockwise.\n",
    "\n",
    "array = [[1,2,3],\n",
    "         [4,5,6],\n",
    "         [7,8,9]]\n",
    "snail(array) #=> [1,2,3,6,9,8,7,4,5]\n",
    "For better understanding, please follow the numbers of the next array consecutively:\n",
    "\n",
    "array = [[1,2,3],\n",
    "         [8,9,4],\n",
    "         [7,6,5]]\n",
    "snail(array) #=> [1,2,3,4,5,6,7,8,9]"
   ]
  },
  {
   "cell_type": "markdown",
   "metadata": {},
   "source": [
    "#### This should make it easier to understand:"
   ]
  },
  {
   "cell_type": "markdown",
   "metadata": {},
   "source": [
    "<img src='snail.png'>"
   ]
  },
  {
   "cell_type": "markdown",
   "metadata": {},
   "source": [
    "Basically, I had to return an array that would follow a snail-like spiraled line through any unknown array with a shape of n x n."
   ]
  },
  {
   "cell_type": "markdown",
   "metadata": {},
   "source": [
    "#### My Solution, which at the time I was quite proud (again, don't worry about trying to follow the code):"
   ]
  },
  {
   "cell_type": "raw",
   "metadata": {},
   "source": [
    "function snail(arr){\n",
    "  let template = arr.map(function (subarray) {\n",
    "    return subarray.map( function () {\n",
    "    return false\n",
    "    });\n",
    "  });\n",
    "  \n",
    "  //console.log(template)\n",
    "  let row = template.length;\n",
    "  let col = template[0].length;\n",
    "  let total =  row * col;\n",
    "  let dRow = [-1, 0, 1, 0];\n",
    "  let dCol = [0, 1, 0, -1];\n",
    "  let step = 1; \n",
    "  let xr = 0;\n",
    "    let yc = 0;\n",
    "    let resultArr = [];\n",
    "\n",
    "    while(resultArr.length < total){\n",
    "      //console.log(xr, yc)\n",
    "      resultArr.push(arr[xr][yc]);\n",
    "      template[xr][yc] = true;\n",
    "      let XR = xr + dRow[step];\n",
    "         let YC = yc + dCol[step];\n",
    "         if(XR >= 0 && XR < row && YC >= 0 && YC < col && template[XR][YC] !== true){\n",
    "        xr = XR;\n",
    "        yc = YC;\n",
    "      } else{\n",
    "        step = (step +1)%4;\n",
    "        xr = xr + dRow[step];\n",
    "        yc = yc + dCol[step];\n",
    "      }\n",
    "    }\n",
    "\n",
    "    return resultArr;\n",
    "}"
   ]
  },
  {
   "cell_type": "markdown",
   "metadata": {},
   "source": [
    "#### Proud, until I saw this:"
   ]
  },
  {
   "cell_type": "raw",
   "metadata": {},
   "source": [
    "function snail(array) {\n",
    "  var vector = [];\n",
    "  while (array.length) {\n",
    "    vector.push(...array.shift());\n",
    "    array.map(row => vector.push(row.pop()));\n",
    "    array.reverse().map(row => row.reverse());\n",
    "  }\n",
    "  return vector;\n",
    "}"
   ]
  },
  {
   "cell_type": "markdown",
   "metadata": {},
   "source": [
    "## Then there was this one.\n",
    "### The Challenge - helloWorld\n"
   ]
  },
  {
   "cell_type": "markdown",
   "metadata": {},
   "source": [
    "###### Return 'helloWorld'\n",
    "\n",
    "Disallowed functionality:\n",
    "\n",
    "- Strings\n",
    "- Numbers\n",
    "- Regular Expressions\n",
    "- Functions named \"Hello\", \"World\", \"HelloWorld\" or anything similar.\n",
    "- Object keys named \"Hello\", \"World\", \"HelloWorld\" or anything similar.\n",
    "- Without using the above, output the string \"Hello World!\" to prove that there is always a way."
   ]
  },
  {
   "cell_type": "markdown",
   "metadata": {},
   "source": [
    "## My Solution. \n"
   ]
  },
  {
   "cell_type": "markdown",
   "metadata": {},
   "source": [
    "var helloWorld = function(){\n",
    "\n",
    "  return String.fromCharCode((!+[]+!![]+!![]+!![]+!![]+!![]+!![]+!![]+!![]) * (!+[]+!![]+!![]+!![]+!![]+!![]+!![]+!![]), \n",
    "  ((!+[]+!![]+!![]+!![]+!![]+!![]+!![]+!![]+!![]+!![]) * (!+[]+!![]+!![]+!![]+!![]+!![]+!![]+!![]+!![]+!![]) + (+!![])), \n",
    "  (!+[]+!![]+!![]+!![]+!![]+!![]+!![]+!![]+!![]+!![]) * (!+[]+!![]+!![]+!![]+!![]+!![]+!![]+!![]+!![]+!![]) + ((!+[]+!![]+!![]+!![]) * (!+[]+!![])), \n",
    "  (!+[]+!![]+!![]+!![]+!![]+!![]+!![]+!![]+!![]+!![]) * (!+[]+!![]+!![]+!![]+!![]+!![]+!![]+!![]+!![]+!![]) + ((!+[]+!![]+!![]+!![]) * (!+[]+!![])),\n",
    "  (!+[]+!![]+!![]+!![]+!![]+!![]+!![]+!![]+!![]+!![]) * (!+[]+!![]+!![]+!![]+!![]+!![]+!![]+!![]+!![]+!![]) + (!+[]+!![]+!![]+!![]+!![]+!![]+!![]+!![]+!![]+!![]) + (+!![]),\n",
    "  (!+[]+!![]+!![]+!![]+!![]+!![]+!![]+!![]) * (!+[]+!![]+!![]+!![]),\n",
    "  (!+[]+!![]+!![]+!![]+!![]+!![]+!![]+!![]+!![]) * (!+[]+!![]+!![]+!![]+!![]+!![]+!![]+!![]+!![]) + (!+[]+!![]+!![]+!![]+!![]+!![]),\n",
    "  (!+[]+!![]+!![]+!![]+!![]+!![]+!![]+!![]+!![]+!![]) * (!+[]+!![]+!![]+!![]+!![]+!![]+!![]+!![]+!![]+!![]) + (!+[]+!![]+!![]+!![]+!![]+!![]+!![]+!![]+!![]+!![]) + (+!![]),\n",
    "  (!+[]+!![]+!![]+!![]+!![]+!![]+!![]+!![]+!![]+!![]) * (!+[]+!![]+!![]+!![]+!![]+!![]+!![]+!![]+!![]+!![]) + ((!+[]+!![]+!![]+!![]+!![]+!![]+!![]) * (!+[]+!![])),\n",
    "  (!+[]+!![]+!![]+!![]+!![]+!![]+!![]+!![]+!![]+!![]) * (!+[]+!![]+!![]+!![]+!![]+!![]+!![]+!![]+!![]+!![]) + ((!+[]+!![]+!![]+!![]) * (!+[]+!![])),\n",
    "  (!+[]+!![]+!![]+!![]+!![]+!![]+!![]+!![]+!![]+!![]) * (!+[]+!![]+!![]+!![]+!![]+!![]+!![]+!![]+!![]+!![]),\n",
    "  (!+[]+!![]+!![]+!![]+!![]+!![]+!![]+!![]) * (!+[]+!![]+!![]+!![]) + (!+[]));\n",
    "  \n",
    "}"
   ]
  },
  {
   "cell_type": "markdown",
   "metadata": {},
   "source": [
    "## Again, my pride was short lived."
   ]
  },
  {
   "cell_type": "raw",
   "metadata": {},
   "source": [
    "var helloWorld = function () {\n",
    "  // Hello World!\n",
    "  var start = [,,,,,,,,,,,,,,,,,,,].length,\n",
    "      end = [,,,,,,,,,,,,,,,,,,,,,,,,,,,,,,,].length;\n",
    "  return helloWorld.toString().slice(start, end);\n",
    "}"
   ]
  },
  {
   "cell_type": "markdown",
   "metadata": {},
   "source": [
    "#### So why do I bring all of this up?\n",
    "\n",
    "As I've been going through the program, these coding challenges and other's like them have kept popping up in my thoughts and I only recently figured out why. \n",
    "\n",
    "In my solutions we see someone working, working hard. Basically doing the equivalent of manual labor with code, where in the more eloquent solutions, we see someone leveraging the power of the language to accomplish the same thing. \n",
    "\n",
    "Imagine we needed to dig a hole. Where I am using my hands, they (whoever the 'they' may be) are using a shovel. Then when I finally work my way up to a shovel, they bring in a backhoe. ('They' suck!)\n",
    "\n",
    "I didn’t even know there was a backhoe option. \n",
    "\n",
    "In working through the labs, I’ve had a similar experience. I’ll brute force a bit of code to get through the lab, only to look at the solution to see some piece of code that just baffles me. \n",
    "\n",
    "Remember the first time you came across a lambda function? (We will get to that one in a moment) \n",
    "\n",
    "The trick is not to get discouraged - yeah, easier said than done and all that... You just spent hours gluing for loops together and you’ve got more counters than you know what do to with, only to see what took you twenty lines accomplished in one or two. \n",
    "\n",
    "Don’t get discouraged, get excited, someone is handing you a shovel. \n",
    "\n",
    "My goal for this study group is for us to take a look at some examples of reoccurring methods, functions, and ways of doing things that keep popping up in the solutions and demystify them. To show that in most cases they are just short-cut versions of what we already know how to do and that by adding them to our code vocabulary our lives will become infinitely easier.\n",
    "\n",
    "We will become 'they' and they will suck a little less. Just a little."
   ]
  },
  {
   "cell_type": "markdown",
   "metadata": {},
   "source": [
    "So to begin today, I would like to take a look at a few functions that I keep coming across in the solutions that have not necessarily been covered that deeply within the lessons. Then I would like to open it up to the group and see if you have any particular pieces of code that are confusing you. I may not know them, but I am sure we will be able to figure it out together. \n",
    "\n",
    "But, first a musical break:"
   ]
  },
  {
   "cell_type": "code",
   "execution_count": 2,
   "metadata": {},
   "outputs": [
    {
     "data": {
      "text/html": [
       "<iframe width=\"560\" height=\"315\" src=\"https://www.youtube.com/embed/iyLdoQGBchQ\" frameborder=\"0\" allow=\"accelerometer; autoplay; encrypted-media; gyroscope; picture-in-picture\" allowfullscreen></iframe>"
      ],
      "text/plain": [
       "<IPython.core.display.HTML object>"
      ]
     },
     "execution_count": 2,
     "metadata": {},
     "output_type": "execute_result"
    }
   ],
   "source": [
    "from IPython.display import HTML\n",
    "HTML('<iframe width=\"560\" height=\"315\" src=\"https://www.youtube.com/embed/iyLdoQGBchQ\" frameborder=\"0\" allow=\"accelerometer; autoplay; encrypted-media; gyroscope; picture-in-picture\" allowfullscreen></iframe>')"
   ]
  },
  {
   "cell_type": "markdown",
   "metadata": {},
   "source": [
    "_\"Write a function called open_restaurants using filter and lambda that takes in a list of restaurants and only returns those that are open. You can use the dictionary key is_closed to make a decision in your code.\"_\n",
    "\n",
    "Lambda? Come again. The song from the eighties? I was actually mispronouncing it up to a week ago when Eli corrected me. Now that would have been embarrassing during an interview. \n",
    "\n",
    "If any of your experiences were like mine, this function seemed to appear out of nowhere. I spent a good hour looking through all the material we had covered up until that point before I had the genius idea to Google it (by the way it wasn't ever mentioned, still not sure if that is by design or not). \n",
    "\n",
    "So let's take a look at it. <br><br>\n",
    "_map was pretty well covered in the lessons, so I will take it as read that we are familiar with it. If not please let me know._"
   ]
  },
  {
   "cell_type": "code",
   "execution_count": 3,
   "metadata": {},
   "outputs": [],
   "source": [
    "# First lets get some data to work with\n",
    "restaurants = [{'is_closed': False,\n",
    "  'name': 'Fork & Fig',\n",
    "  'price': '$$',\n",
    "  'review_count': 610},\n",
    " {'is_closed': False,\n",
    "  'name': 'Salt And Board',\n",
    "  'price': '$$',\n",
    "  'review_count': 11},\n",
    " {'is_closed': False,\n",
    "  'name': 'Frontier Restaurant',\n",
    "  'price': '$',\n",
    "  'review_count': 1373},\n",
    " {'is_closed': False,\n",
    "  'name': 'Nexus Brewery',\n",
    "  'price': '$$',\n",
    "  'review_count': 680},\n",
    " {'is_closed': False,\n",
    "  'name': \"Devon's Pop Smoke\",\n",
    "  'price': '$$',\n",
    "  'review_count': 54},\n",
    " {'is_closed': True,\n",
    "  'name': 'Cocina Azul',\n",
    "  'price': '$$',\n",
    "  'review_count': 647},\n",
    " {'is_closed': False,\n",
    "  'name': 'Philly Steaks',\n",
    "  'price': '$$',\n",
    "  'review_count': 25},\n",
    " {'is_closed': True,\n",
    "  'name': 'Stripes Biscuit',\n",
    "  'price': '$$',\n",
    "  'review_count': 20}]"
   ]
  },
  {
   "cell_type": "markdown",
   "metadata": {},
   "source": [
    "In the lab, one of the tasks was to create a list of all of the restaurant names. The solution they gave was:"
   ]
  },
  {
   "cell_type": "code",
   "execution_count": 4,
   "metadata": {},
   "outputs": [
    {
     "data": {
      "text/plain": [
       "['Fork & Fig',\n",
       " 'Salt And Board',\n",
       " 'Frontier Restaurant',\n",
       " 'Nexus Brewery',\n",
       " \"Devon's Pop Smoke\",\n",
       " 'Cocina Azul',\n",
       " 'Philly Steaks',\n",
       " 'Stripes Biscuit']"
      ]
     },
     "execution_count": 4,
     "metadata": {},
     "output_type": "execute_result"
    }
   ],
   "source": [
    "names = list(map(lambda restaurant: restaurant['name'], restaurants))\n",
    "names"
   ]
  },
  {
   "cell_type": "code",
   "execution_count": 5,
   "metadata": {},
   "outputs": [
    {
     "data": {
      "text/plain": [
       "['Fork & Fig',\n",
       " 'Salt And Board',\n",
       " 'Frontier Restaurant',\n",
       " 'Nexus Brewery',\n",
       " \"Devon's Pop Smoke\",\n",
       " 'Cocina Azul',\n",
       " 'Philly Steaks',\n",
       " 'Stripes Biscuit']"
      ]
     },
     "execution_count": 5,
     "metadata": {},
     "output_type": "execute_result"
    }
   ],
   "source": [
    "# Now how could we do the same thing with just a for loop:\n",
    "for_looped_names = [] #taking the place of the list function\n",
    "for restaurant in restaurants: #for loop taking the place of the map function \n",
    "    for_looped_names.append(restaurant['name']) #append doing the rest of the work of the lambda function\n",
    "\n",
    "for_looped_names\n"
   ]
  },
  {
   "cell_type": "markdown",
   "metadata": {},
   "source": [
    "Or how about another example from the same lab; bear with me if this all seems pretty simple, it is building to something...I hope.\n",
    "\n",
    "Let's say we wanted to get how many reviews were written for each restaurant. The code from the solution was:"
   ]
  },
  {
   "cell_type": "code",
   "execution_count": 6,
   "metadata": {},
   "outputs": [
    {
     "data": {
      "text/plain": [
       "[610, 11, 1373, 680, 54, 647, 25, 20]"
      ]
     },
     "execution_count": 6,
     "metadata": {},
     "output_type": "execute_result"
    }
   ],
   "source": [
    "review_counts = list(map(lambda restaurant: restaurant['review_count'], restaurants))\n",
    "review_counts # [610, 11, 1373, 680, 54, 647, 25, 20]"
   ]
  },
  {
   "cell_type": "markdown",
   "metadata": {},
   "source": [
    "Again there is nothing being done here that couldn't be accomplished using a for loop."
   ]
  },
  {
   "cell_type": "code",
   "execution_count": 7,
   "metadata": {},
   "outputs": [
    {
     "data": {
      "text/plain": [
       "[610, 11, 1373, 680, 54, 647, 25, 20]"
      ]
     },
     "execution_count": 7,
     "metadata": {},
     "output_type": "execute_result"
    }
   ],
   "source": [
    "review_counts_for_loopped = []\n",
    "for restaurant in restaurants:\n",
    "    review_counts_for_loopped.append(restaurant['review_count'])\n",
    "    \n",
    "review_counts_for_loopped"
   ]
  },
  {
   "cell_type": "markdown",
   "metadata": {},
   "source": [
    "So lambda, when combined with functions like list, map and filter, accomplish succinctly the same things we could accomplish verbosely using loops. \n",
    "\n",
    "Languages have a way they want to be used.  Javascript, Ruby...have a way about them. In working with Python it seems like this kind of economy of movement is what the language is looking for. \n",
    "\n",
    "Lambda, great got it. Simple. Until you see this:"
   ]
  },
  {
   "cell_type": "code",
   "execution_count": 8,
   "metadata": {},
   "outputs": [
    {
     "ename": "NameError",
     "evalue": "name 'interactions' is not defined",
     "output_type": "error",
     "traceback": [
      "\u001b[0;31m---------------------------------------------------------------------------\u001b[0m",
      "\u001b[0;31mNameError\u001b[0m                                 Traceback (most recent call last)",
      "\u001b[0;32m<ipython-input-8-e7f438764014>\u001b[0m in \u001b[0;36m<module>\u001b[0;34m()\u001b[0m\n\u001b[1;32m      1\u001b[0m \u001b[0;31m# for example purposes only, will not run, no data\u001b[0m\u001b[0;34m\u001b[0m\u001b[0;34m\u001b[0m\u001b[0m\n\u001b[0;32m----> 2\u001b[0;31m \u001b[0mlist_interactions\u001b[0m \u001b[0;34m=\u001b[0m  \u001b[0msorted\u001b[0m\u001b[0;34m(\u001b[0m\u001b[0minteractions\u001b[0m\u001b[0;34m,\u001b[0m \u001b[0mkey\u001b[0m\u001b[0;34m=\u001b[0m\u001b[0;32mlambda\u001b[0m \u001b[0minter\u001b[0m\u001b[0;34m:\u001b[0m \u001b[0minter\u001b[0m\u001b[0;34m[\u001b[0m\u001b[0;36m2\u001b[0m\u001b[0;34m]\u001b[0m\u001b[0;34m,\u001b[0m \u001b[0mreverse\u001b[0m\u001b[0;34m=\u001b[0m\u001b[0;32mTrue\u001b[0m\u001b[0;34m)\u001b[0m\u001b[0;34m[\u001b[0m\u001b[0;34m:\u001b[0m\u001b[0;36m7\u001b[0m\u001b[0;34m]\u001b[0m\u001b[0;34m\u001b[0m\u001b[0m\n\u001b[0m",
      "\u001b[0;31mNameError\u001b[0m: name 'interactions' is not defined"
     ]
    }
   ],
   "source": [
    "# for example purposes only, will not run, no data\n",
    "list_interactions =  sorted(interactions, key=lambda inter: inter[2], reverse=True)[:7]"
   ]
  },
  {
   "cell_type": "markdown",
   "metadata": {},
   "source": [
    "It is important to remember that lambda is just a way of calling anonymous functions. Its power comes in combining it with other functions. In the example above, with the sorted function. Say we had a group of words:"
   ]
  },
  {
   "cell_type": "code",
   "execution_count": 9,
   "metadata": {},
   "outputs": [
    {
     "data": {
      "text/plain": [
       "['Some', 'differently', 'sort', 'words']"
      ]
     },
     "execution_count": 9,
     "metadata": {},
     "output_type": "execute_result"
    }
   ],
   "source": [
    "sorted(['Some', 'words', 'sort', 'differently'])"
   ]
  },
  {
   "cell_type": "markdown",
   "metadata": {},
   "source": [
    "The problem is that the sorted function is sorting upper case letters first, not taking alphabetic order into account. Now we could write a named function to be used with sorted:"
   ]
  },
  {
   "cell_type": "code",
   "execution_count": 10,
   "metadata": {},
   "outputs": [],
   "source": [
    "def lowercased(word): \n",
    "    return word.lower()"
   ]
  },
  {
   "cell_type": "code",
   "execution_count": 11,
   "metadata": {},
   "outputs": [
    {
     "data": {
      "text/plain": [
       "['differently', 'Some', 'sort', 'words']"
      ]
     },
     "execution_count": 11,
     "metadata": {},
     "output_type": "execute_result"
    }
   ],
   "source": [
    "sorted(['Some', 'words', 'sort', 'differently'], key=lowercased)"
   ]
  },
  {
   "cell_type": "markdown",
   "metadata": {},
   "source": [
    "Or we could just do it inline, using lambda:"
   ]
  },
  {
   "cell_type": "code",
   "execution_count": 12,
   "metadata": {},
   "outputs": [
    {
     "data": {
      "text/plain": [
       "['differently', 'Some', 'sort', 'words']"
      ]
     },
     "execution_count": 12,
     "metadata": {},
     "output_type": "execute_result"
    }
   ],
   "source": [
    "sorted(['Some', 'words', 'sort', 'differently'], key=lambda word: word.lower())"
   ]
  },
  {
   "cell_type": "markdown",
   "metadata": {},
   "source": [
    "_Full disclosure, the above example was taken almost verbatim from an answer posted on StackOverflow by [Martijn Pieters](https://stackoverflow.com/questions/13669252/what-is-key-lambda/13669294). Why reinvent the wheel...all hail Martijn!_"
   ]
  },
  {
   "cell_type": "markdown",
   "metadata": {},
   "source": [
    "### The List Comprhension"
   ]
  },
  {
   "cell_type": "markdown",
   "metadata": {},
   "source": [
    "I started with lambda because this kind of Russian Doll function-stuffing leads us nicely to the list comprehension. (Russian Doll, great show, by the way, very East Village.) "
   ]
  },
  {
   "cell_type": "code",
   "execution_count": 13,
   "metadata": {},
   "outputs": [],
   "source": [
    "# get some data to work with\n",
    "import pandas as pd\n",
    "import numpy as np\n",
    "df = pd.read_csv('train.csv')"
   ]
  },
  {
   "cell_type": "markdown",
   "metadata": {},
   "source": [
    "Let's take a look at it in action, the following example was taken from the Ridge and Lasso Regression Lab. In preparation for linear regression, we are asked to create a new data fame from an existing one, minus the target and any noncontinuous features."
   ]
  },
  {
   "cell_type": "markdown",
   "metadata": {},
   "source": [
    "In the solutions they do this by using a list comprehension:"
   ]
  },
  {
   "cell_type": "code",
   "execution_count": 14,
   "metadata": {},
   "outputs": [
    {
     "data": {
      "text/html": [
       "<div>\n",
       "<style scoped>\n",
       "    .dataframe tbody tr th:only-of-type {\n",
       "        vertical-align: middle;\n",
       "    }\n",
       "\n",
       "    .dataframe tbody tr th {\n",
       "        vertical-align: top;\n",
       "    }\n",
       "\n",
       "    .dataframe thead th {\n",
       "        text-align: right;\n",
       "    }\n",
       "</style>\n",
       "<table border=\"1\" class=\"dataframe\">\n",
       "  <thead>\n",
       "    <tr style=\"text-align: right;\">\n",
       "      <th></th>\n",
       "      <th>Id</th>\n",
       "      <th>MSSubClass</th>\n",
       "      <th>LotFrontage</th>\n",
       "      <th>LotArea</th>\n",
       "      <th>OverallQual</th>\n",
       "      <th>OverallCond</th>\n",
       "      <th>YearBuilt</th>\n",
       "      <th>YearRemodAdd</th>\n",
       "      <th>MasVnrArea</th>\n",
       "      <th>BsmtFinSF1</th>\n",
       "      <th>...</th>\n",
       "      <th>GarageArea</th>\n",
       "      <th>WoodDeckSF</th>\n",
       "      <th>OpenPorchSF</th>\n",
       "      <th>EnclosedPorch</th>\n",
       "      <th>3SsnPorch</th>\n",
       "      <th>ScreenPorch</th>\n",
       "      <th>PoolArea</th>\n",
       "      <th>MiscVal</th>\n",
       "      <th>MoSold</th>\n",
       "      <th>YrSold</th>\n",
       "    </tr>\n",
       "  </thead>\n",
       "  <tbody>\n",
       "    <tr>\n",
       "      <th>0</th>\n",
       "      <td>1</td>\n",
       "      <td>60</td>\n",
       "      <td>65.0</td>\n",
       "      <td>8450</td>\n",
       "      <td>7</td>\n",
       "      <td>5</td>\n",
       "      <td>2003</td>\n",
       "      <td>2003</td>\n",
       "      <td>196.0</td>\n",
       "      <td>706</td>\n",
       "      <td>...</td>\n",
       "      <td>548</td>\n",
       "      <td>0</td>\n",
       "      <td>61</td>\n",
       "      <td>0</td>\n",
       "      <td>0</td>\n",
       "      <td>0</td>\n",
       "      <td>0</td>\n",
       "      <td>0</td>\n",
       "      <td>2</td>\n",
       "      <td>2008</td>\n",
       "    </tr>\n",
       "    <tr>\n",
       "      <th>1</th>\n",
       "      <td>2</td>\n",
       "      <td>20</td>\n",
       "      <td>80.0</td>\n",
       "      <td>9600</td>\n",
       "      <td>6</td>\n",
       "      <td>8</td>\n",
       "      <td>1976</td>\n",
       "      <td>1976</td>\n",
       "      <td>0.0</td>\n",
       "      <td>978</td>\n",
       "      <td>...</td>\n",
       "      <td>460</td>\n",
       "      <td>298</td>\n",
       "      <td>0</td>\n",
       "      <td>0</td>\n",
       "      <td>0</td>\n",
       "      <td>0</td>\n",
       "      <td>0</td>\n",
       "      <td>0</td>\n",
       "      <td>5</td>\n",
       "      <td>2007</td>\n",
       "    </tr>\n",
       "    <tr>\n",
       "      <th>2</th>\n",
       "      <td>3</td>\n",
       "      <td>60</td>\n",
       "      <td>68.0</td>\n",
       "      <td>11250</td>\n",
       "      <td>7</td>\n",
       "      <td>5</td>\n",
       "      <td>2001</td>\n",
       "      <td>2002</td>\n",
       "      <td>162.0</td>\n",
       "      <td>486</td>\n",
       "      <td>...</td>\n",
       "      <td>608</td>\n",
       "      <td>0</td>\n",
       "      <td>42</td>\n",
       "      <td>0</td>\n",
       "      <td>0</td>\n",
       "      <td>0</td>\n",
       "      <td>0</td>\n",
       "      <td>0</td>\n",
       "      <td>9</td>\n",
       "      <td>2008</td>\n",
       "    </tr>\n",
       "    <tr>\n",
       "      <th>3</th>\n",
       "      <td>4</td>\n",
       "      <td>70</td>\n",
       "      <td>60.0</td>\n",
       "      <td>9550</td>\n",
       "      <td>7</td>\n",
       "      <td>5</td>\n",
       "      <td>1915</td>\n",
       "      <td>1970</td>\n",
       "      <td>0.0</td>\n",
       "      <td>216</td>\n",
       "      <td>...</td>\n",
       "      <td>642</td>\n",
       "      <td>0</td>\n",
       "      <td>35</td>\n",
       "      <td>272</td>\n",
       "      <td>0</td>\n",
       "      <td>0</td>\n",
       "      <td>0</td>\n",
       "      <td>0</td>\n",
       "      <td>2</td>\n",
       "      <td>2006</td>\n",
       "    </tr>\n",
       "    <tr>\n",
       "      <th>4</th>\n",
       "      <td>5</td>\n",
       "      <td>60</td>\n",
       "      <td>84.0</td>\n",
       "      <td>14260</td>\n",
       "      <td>8</td>\n",
       "      <td>5</td>\n",
       "      <td>2000</td>\n",
       "      <td>2000</td>\n",
       "      <td>350.0</td>\n",
       "      <td>655</td>\n",
       "      <td>...</td>\n",
       "      <td>836</td>\n",
       "      <td>192</td>\n",
       "      <td>84</td>\n",
       "      <td>0</td>\n",
       "      <td>0</td>\n",
       "      <td>0</td>\n",
       "      <td>0</td>\n",
       "      <td>0</td>\n",
       "      <td>12</td>\n",
       "      <td>2008</td>\n",
       "    </tr>\n",
       "  </tbody>\n",
       "</table>\n",
       "<p>5 rows × 37 columns</p>\n",
       "</div>"
      ],
      "text/plain": [
       "   Id  MSSubClass  LotFrontage  LotArea  OverallQual  OverallCond  YearBuilt  \\\n",
       "0   1          60         65.0     8450            7            5       2003   \n",
       "1   2          20         80.0     9600            6            8       1976   \n",
       "2   3          60         68.0    11250            7            5       2001   \n",
       "3   4          70         60.0     9550            7            5       1915   \n",
       "4   5          60         84.0    14260            8            5       2000   \n",
       "\n",
       "   YearRemodAdd  MasVnrArea  BsmtFinSF1   ...    GarageArea  WoodDeckSF  \\\n",
       "0          2003       196.0         706   ...           548           0   \n",
       "1          1976         0.0         978   ...           460         298   \n",
       "2          2002       162.0         486   ...           608           0   \n",
       "3          1970         0.0         216   ...           642           0   \n",
       "4          2000       350.0         655   ...           836         192   \n",
       "\n",
       "   OpenPorchSF  EnclosedPorch  3SsnPorch  ScreenPorch  PoolArea  MiscVal  \\\n",
       "0           61              0          0            0         0        0   \n",
       "1            0              0          0            0         0        0   \n",
       "2           42              0          0            0         0        0   \n",
       "3           35            272          0            0         0        0   \n",
       "4           84              0          0            0         0        0   \n",
       "\n",
       "   MoSold  YrSold  \n",
       "0       2    2008  \n",
       "1       5    2007  \n",
       "2       9    2008  \n",
       "3       2    2006  \n",
       "4      12    2008  \n",
       "\n",
       "[5 rows x 37 columns]"
      ]
     },
     "execution_count": 14,
     "metadata": {},
     "output_type": "execute_result"
    }
   ],
   "source": [
    "features = [col for col in df.columns if df[col].dtype in [np.float64, np.int64] and col!='SalePrice']\n",
    "X = df[features]\n",
    "X.head()"
   ]
  },
  {
   "cell_type": "markdown",
   "metadata": {},
   "source": [
    "Which we could just as easily do with a, you guessed it, a loop. "
   ]
  },
  {
   "cell_type": "code",
   "execution_count": 15,
   "metadata": {},
   "outputs": [
    {
     "data": {
      "text/html": [
       "<div>\n",
       "<style scoped>\n",
       "    .dataframe tbody tr th:only-of-type {\n",
       "        vertical-align: middle;\n",
       "    }\n",
       "\n",
       "    .dataframe tbody tr th {\n",
       "        vertical-align: top;\n",
       "    }\n",
       "\n",
       "    .dataframe thead th {\n",
       "        text-align: right;\n",
       "    }\n",
       "</style>\n",
       "<table border=\"1\" class=\"dataframe\">\n",
       "  <thead>\n",
       "    <tr style=\"text-align: right;\">\n",
       "      <th></th>\n",
       "      <th>Id</th>\n",
       "      <th>MSSubClass</th>\n",
       "      <th>LotFrontage</th>\n",
       "      <th>LotArea</th>\n",
       "      <th>OverallQual</th>\n",
       "      <th>OverallCond</th>\n",
       "      <th>YearBuilt</th>\n",
       "      <th>YearRemodAdd</th>\n",
       "      <th>MasVnrArea</th>\n",
       "      <th>BsmtFinSF1</th>\n",
       "      <th>...</th>\n",
       "      <th>GarageArea</th>\n",
       "      <th>WoodDeckSF</th>\n",
       "      <th>OpenPorchSF</th>\n",
       "      <th>EnclosedPorch</th>\n",
       "      <th>3SsnPorch</th>\n",
       "      <th>ScreenPorch</th>\n",
       "      <th>PoolArea</th>\n",
       "      <th>MiscVal</th>\n",
       "      <th>MoSold</th>\n",
       "      <th>YrSold</th>\n",
       "    </tr>\n",
       "  </thead>\n",
       "  <tbody>\n",
       "    <tr>\n",
       "      <th>0</th>\n",
       "      <td>1</td>\n",
       "      <td>60</td>\n",
       "      <td>65.0</td>\n",
       "      <td>8450</td>\n",
       "      <td>7</td>\n",
       "      <td>5</td>\n",
       "      <td>2003</td>\n",
       "      <td>2003</td>\n",
       "      <td>196.0</td>\n",
       "      <td>706</td>\n",
       "      <td>...</td>\n",
       "      <td>548</td>\n",
       "      <td>0</td>\n",
       "      <td>61</td>\n",
       "      <td>0</td>\n",
       "      <td>0</td>\n",
       "      <td>0</td>\n",
       "      <td>0</td>\n",
       "      <td>0</td>\n",
       "      <td>2</td>\n",
       "      <td>2008</td>\n",
       "    </tr>\n",
       "    <tr>\n",
       "      <th>1</th>\n",
       "      <td>2</td>\n",
       "      <td>20</td>\n",
       "      <td>80.0</td>\n",
       "      <td>9600</td>\n",
       "      <td>6</td>\n",
       "      <td>8</td>\n",
       "      <td>1976</td>\n",
       "      <td>1976</td>\n",
       "      <td>0.0</td>\n",
       "      <td>978</td>\n",
       "      <td>...</td>\n",
       "      <td>460</td>\n",
       "      <td>298</td>\n",
       "      <td>0</td>\n",
       "      <td>0</td>\n",
       "      <td>0</td>\n",
       "      <td>0</td>\n",
       "      <td>0</td>\n",
       "      <td>0</td>\n",
       "      <td>5</td>\n",
       "      <td>2007</td>\n",
       "    </tr>\n",
       "    <tr>\n",
       "      <th>2</th>\n",
       "      <td>3</td>\n",
       "      <td>60</td>\n",
       "      <td>68.0</td>\n",
       "      <td>11250</td>\n",
       "      <td>7</td>\n",
       "      <td>5</td>\n",
       "      <td>2001</td>\n",
       "      <td>2002</td>\n",
       "      <td>162.0</td>\n",
       "      <td>486</td>\n",
       "      <td>...</td>\n",
       "      <td>608</td>\n",
       "      <td>0</td>\n",
       "      <td>42</td>\n",
       "      <td>0</td>\n",
       "      <td>0</td>\n",
       "      <td>0</td>\n",
       "      <td>0</td>\n",
       "      <td>0</td>\n",
       "      <td>9</td>\n",
       "      <td>2008</td>\n",
       "    </tr>\n",
       "    <tr>\n",
       "      <th>3</th>\n",
       "      <td>4</td>\n",
       "      <td>70</td>\n",
       "      <td>60.0</td>\n",
       "      <td>9550</td>\n",
       "      <td>7</td>\n",
       "      <td>5</td>\n",
       "      <td>1915</td>\n",
       "      <td>1970</td>\n",
       "      <td>0.0</td>\n",
       "      <td>216</td>\n",
       "      <td>...</td>\n",
       "      <td>642</td>\n",
       "      <td>0</td>\n",
       "      <td>35</td>\n",
       "      <td>272</td>\n",
       "      <td>0</td>\n",
       "      <td>0</td>\n",
       "      <td>0</td>\n",
       "      <td>0</td>\n",
       "      <td>2</td>\n",
       "      <td>2006</td>\n",
       "    </tr>\n",
       "    <tr>\n",
       "      <th>4</th>\n",
       "      <td>5</td>\n",
       "      <td>60</td>\n",
       "      <td>84.0</td>\n",
       "      <td>14260</td>\n",
       "      <td>8</td>\n",
       "      <td>5</td>\n",
       "      <td>2000</td>\n",
       "      <td>2000</td>\n",
       "      <td>350.0</td>\n",
       "      <td>655</td>\n",
       "      <td>...</td>\n",
       "      <td>836</td>\n",
       "      <td>192</td>\n",
       "      <td>84</td>\n",
       "      <td>0</td>\n",
       "      <td>0</td>\n",
       "      <td>0</td>\n",
       "      <td>0</td>\n",
       "      <td>0</td>\n",
       "      <td>12</td>\n",
       "      <td>2008</td>\n",
       "    </tr>\n",
       "  </tbody>\n",
       "</table>\n",
       "<p>5 rows × 37 columns</p>\n",
       "</div>"
      ],
      "text/plain": [
       "   Id  MSSubClass  LotFrontage  LotArea  OverallQual  OverallCond  YearBuilt  \\\n",
       "0   1          60         65.0     8450            7            5       2003   \n",
       "1   2          20         80.0     9600            6            8       1976   \n",
       "2   3          60         68.0    11250            7            5       2001   \n",
       "3   4          70         60.0     9550            7            5       1915   \n",
       "4   5          60         84.0    14260            8            5       2000   \n",
       "\n",
       "   YearRemodAdd  MasVnrArea  BsmtFinSF1   ...    GarageArea  WoodDeckSF  \\\n",
       "0          2003       196.0         706   ...           548           0   \n",
       "1          1976         0.0         978   ...           460         298   \n",
       "2          2002       162.0         486   ...           608           0   \n",
       "3          1970         0.0         216   ...           642           0   \n",
       "4          2000       350.0         655   ...           836         192   \n",
       "\n",
       "   OpenPorchSF  EnclosedPorch  3SsnPorch  ScreenPorch  PoolArea  MiscVal  \\\n",
       "0           61              0          0            0         0        0   \n",
       "1            0              0          0            0         0        0   \n",
       "2           42              0          0            0         0        0   \n",
       "3           35            272          0            0         0        0   \n",
       "4           84              0          0            0         0        0   \n",
       "\n",
       "   MoSold  YrSold  \n",
       "0       2    2008  \n",
       "1       5    2007  \n",
       "2       9    2008  \n",
       "3       2    2006  \n",
       "4      12    2008  \n",
       "\n",
       "[5 rows x 37 columns]"
      ]
     },
     "execution_count": 15,
     "metadata": {},
     "output_type": "execute_result"
    }
   ],
   "source": [
    "features = []\n",
    "for col in df.columns:\n",
    "    if df[col].dtype == float or df[col].dtype == int and col != \"SalePrice\":\n",
    "        features.append(col)\n",
    "    \n",
    "X = df[features]\n",
    "X.head()"
   ]
  },
  {
   "cell_type": "markdown",
   "metadata": {},
   "source": [
    "We are basically just wrapping a for loop in brackets and the rest takes care of itself. This kind of brevity seems a key feature of Python and something I think we should be striving for in our own code. Without sacrificing readability, of course.   "
   ]
  },
  {
   "cell_type": "markdown",
   "metadata": {},
   "source": [
    "# <center> Surprise Inquisition!!</center>"
   ]
  },
  {
   "cell_type": "markdown",
   "metadata": {},
   "source": [
    "<img src='inquisition.gif'>"
   ]
  },
  {
   "cell_type": "markdown",
   "metadata": {},
   "source": [
    "First, I will make a list of squares using a for loop:"
   ]
  },
  {
   "cell_type": "code",
   "execution_count": 16,
   "metadata": {},
   "outputs": [],
   "source": [
    "squares = []\n",
    "for i in range(1, 21):\n",
    "    if i ** 2 % 2 == 0:\n",
    "        squares.append(i ** 2)"
   ]
  },
  {
   "cell_type": "code",
   "execution_count": 17,
   "metadata": {},
   "outputs": [
    {
     "data": {
      "text/plain": [
       "[4, 16, 36, 64, 100, 144, 196, 256, 324, 400]"
      ]
     },
     "execution_count": 17,
     "metadata": {},
     "output_type": "execute_result"
    }
   ],
   "source": [
    "squares\n"
   ]
  },
  {
   "cell_type": "markdown",
   "metadata": {},
   "source": [
    "Does anybody want to take a shot writing the same code as a list comprehension?"
   ]
  },
  {
   "cell_type": "code",
   "execution_count": 40,
   "metadata": {},
   "outputs": [],
   "source": [
    "# answer: squares = [x ** 2 for x in range(1,21) if x % 2 == 0]\n"
   ]
  },
  {
   "cell_type": "markdown",
   "metadata": {},
   "source": [
    "Now how we find all numbers within the list that are between 60 and 300:"
   ]
  },
  {
   "cell_type": "code",
   "execution_count": 18,
   "metadata": {},
   "outputs": [
    {
     "name": "stdout",
     "output_type": "stream",
     "text": [
      "[64, 100, 144, 196, 256]\n"
     ]
    }
   ],
   "source": [
    "def f(x):\n",
    "    if x > 60 and x < 300:\n",
    "        return True\n",
    "    else:\n",
    "        return False\n",
    "    \n",
    "print(list(filter(f, squares)))"
   ]
  },
  {
   "cell_type": "markdown",
   "metadata": {},
   "source": [
    "Who can do the same thing, but using a lambda function?"
   ]
  },
  {
   "cell_type": "code",
   "execution_count": 19,
   "metadata": {},
   "outputs": [],
   "source": [
    "# answer: print(list(filter(lambda x : x > 60 and x < 300, squares)))"
   ]
  },
  {
   "cell_type": "code",
   "execution_count": null,
   "metadata": {},
   "outputs": [],
   "source": []
  }
 ],
 "metadata": {
  "kernelspec": {
   "display_name": "Python 3",
   "language": "python",
   "name": "python3"
  },
  "language_info": {
   "codemirror_mode": {
    "name": "ipython",
    "version": 3
   },
   "file_extension": ".py",
   "mimetype": "text/x-python",
   "name": "python",
   "nbconvert_exporter": "python",
   "pygments_lexer": "ipython3",
   "version": "3.7.0"
  }
 },
 "nbformat": 4,
 "nbformat_minor": 2
}
